{
  "nbformat": 4,
  "nbformat_minor": 0,
  "metadata": {
    "colab": {
      "provenance": [],
      "authorship_tag": "ABX9TyPczpeex6jR20gG/0FAniaF",
      "include_colab_link": true
    },
    "kernelspec": {
      "name": "python3",
      "display_name": "Python 3"
    },
    "language_info": {
      "name": "python"
    }
  },
  "cells": [
    {
      "cell_type": "markdown",
      "metadata": {
        "id": "view-in-github",
        "colab_type": "text"
      },
      "source": [
        "<a href=\"https://colab.research.google.com/github/AndrewCrossman/Graduate_Research/blob/main/EXAFS_Analysis.ipynb\" target=\"_parent\"><img src=\"https://colab.research.google.com/assets/colab-badge.svg\" alt=\"Open In Colab\"/></a>"
      ]
    },
    {
      "cell_type": "markdown",
      "source": [
        "# EXAFS_Analysis.ipynb\n",
        "\n",
        "This code will help analyze EXAFS data stored on a shared google drive.\n",
        "\n",
        "**Capabilities:**\n"
      ],
      "metadata": {
        "id": "ZGCiYmZpFBlz"
      }
    },
    {
      "cell_type": "markdown",
      "source": [
        "## Imports"
      ],
      "metadata": {
        "id": "YaJNHZH4FfWq"
      }
    },
    {
      "cell_type": "code",
      "execution_count": 3,
      "metadata": {
        "colab": {
          "base_uri": "https://localhost:8080/"
        },
        "id": "jacHbnTtk05s",
        "outputId": "18124a79-a4f4-4301-a4e1-20bc9aec1030"
      },
      "outputs": [
        {
          "output_type": "stream",
          "name": "stdout",
          "text": [
            "Populating the interactive namespace from numpy and matplotlib\n"
          ]
        }
      ],
      "source": [
        "from google.colab import drive\n",
        "import csv\n",
        "import numpy as np\n",
        "import pandas as pd\n",
        "import scipy as sp\n",
        "from scipy import optimize\n",
        "from google.colab import files\n",
        "import matplotlib.pylab as plt\n",
        "%pylab inline"
      ]
    },
    {
      "cell_type": "code",
      "source": [
        "drive.mount('/content/drive/', force_remount=True)"
      ],
      "metadata": {
        "colab": {
          "base_uri": "https://localhost:8080/"
        },
        "id": "iHLFeqOWk_Dw",
        "outputId": "a39c864d-ca3f-40ff-db4f-da92ffce2b1c"
      },
      "execution_count": 4,
      "outputs": [
        {
          "output_type": "stream",
          "name": "stdout",
          "text": [
            "Mounted at /content/drive/\n"
          ]
        }
      ]
    },
    {
      "cell_type": "code",
      "source": [
        "!ls '/content/drive/MyDrive/2023-07-30'"
      ],
      "metadata": {
        "colab": {
          "base_uri": "https://localhost:8080/"
        },
        "id": "wE5dphK9lCMN",
        "outputId": "b98870c4-6f7c-492b-a670-24081a119487"
      },
      "execution_count": 7,
      "outputs": [
        {
          "output_type": "stream",
          "name": "stdout",
          "text": [
            " athena_projects   Cu-2423M.002       experiment.log   Ni-2623C.004\n",
            "'chi(k)'\t   Cu-2423M.003      'mu(E)'\t       Ni-2623D.001\n",
            "'chi(q)'\t   Cu-2423M.004       Ni-2326K.001     Ni-2623D.002\n",
            "'chi(R)'\t   Cu-2423N.001       Ni-2326K.002     Ni-2623D.003\n",
            " Cu-1223.001\t   Cu-2423N.002       Ni-2326K.003     Ni-2623D.004\n",
            " Cu-1223.002\t   Cu-2423N.003       Ni-2326K.004     Ni-2623E.001\n",
            " Cu-1223.003\t   Cu-2423N.004       Ni-2423.001      Ni-2623E.002\n",
            " Cu-1223.004\t   Cu-2423O.001       Ni-2423.002      Ni-2623E.003\n",
            " Cu-1223A.001\t   Cu-2423O.002       Ni-2423.003      Ni-2623E.004\n",
            " Cu-1223A.002\t   Cu-2423O.003       Ni-2423.004      Ni-2623F.001\n",
            " Cu-1223A.003\t   Cu-2423O.004       Ni-2423A.001     Ni-2623F.002\n",
            " Cu-1223A.004\t   Cu-2623.001\t      Ni-2423A.002     Ni-2623F.003\n",
            " Cu-1223B.001\t   Cu-2623.002\t      Ni-2423A.003     Ni-2623F.004\n",
            " Cu-1223B.002\t   Cu-2623.003\t      Ni-2423A.004     Ni-2623G.001\n",
            " Cu-1223B.003\t   Cu-2623.004\t      Ni-2423B.001     Ni-2623G.002\n",
            " Cu-1223B.004\t   Cu-2623A.001       Ni-2423B.002     Ni-2623G.003\n",
            " Cu-1223C.001\t   Cu-2623A.002       Ni-2423B.003     Ni-2623G.004\n",
            " Cu-1223C.002\t   Cu-2623A.003       Ni-2423B.004     Ni-2623H.001\n",
            " Cu-1223C.003\t   Cu-2623A.004       Ni-2423C.001     Ni-2623H.002\n",
            " Cu-1223C.004\t   Cu-2623B.001       Ni-2423C.002     Ni-2623H.003\n",
            " Cu-1223D.001\t   Cu-2623B.002       Ni-2423C.003     Ni-2623H.004\n",
            " Cu-1223D.002\t   Cu-2623B.003       Ni-2423C.004     Ni-2623I.001\n",
            " Cu-1223D.003\t   Cu-2623B.004       Ni-2423D.001     Ni-2623I.002\n",
            " Cu-1223D.004\t   Cu-2623C.001       Ni-2423D.002     Ni-2623I.003\n",
            " Cu-1223E.001\t   Cu-2623C.002       Ni-2423D.003     Ni-2623I.004\n",
            " Cu-1223E.002\t   Cu-2623C.003       Ni-2423D.004     Ni-2623J.001\n",
            " Cu-1223E.003\t   Cu-2623C.004       Ni-2423E.001     Ni-2623J.002\n",
            " Cu-1223E.004\t   Cu-2623D.001       Ni-2423E.002     Ni-2623J.003\n",
            " Cu-2326K.001\t   Cu-2623D.002       Ni-2423E.003     Ni-2623J.004\n",
            " Cu-2326K.002\t   Cu-2623D.003       Ni-2423E.004     Ni-2623L.001\n",
            " Cu-2326K.003\t   Cu-2623D.004       Ni-2423F.001     Ni-2623L.002\n",
            " Cu-2326K.004\t   Cu-2623E.001       Ni-2423F.002     Ni-2623L.003\n",
            " Cu-2423.001\t   Cu-2623E.002       Ni-2423F.003     Ni-2623L.004\n",
            " Cu-2423.002\t   Cu-2623E.003       Ni-2423F.004     Ni-2623M.001\n",
            " Cu-2423.003\t   Cu-2623E.004       Ni-2423G.001     Ni-2623M.002\n",
            " Cu-2423.004\t   Cu-2623E.005       Ni-2423G.002     Ni-2623M.003\n",
            " Cu-2423A.001\t   Cu-2623E.006       Ni-2423G.003     Ni-2623M.004\n",
            " Cu-2423A.002\t   Cu-2623F.001       Ni-2423G.004     Ni-2623N.001\n",
            " Cu-2423A.003\t   Cu-2623F.002       Ni-2423H.001     Ni-2623N.002\n",
            " Cu-2423A.004\t   Cu-2623F.003       Ni-2423H.002     Ni-2623N.003\n",
            " Cu-2423B.001\t   Cu-2623F.004       Ni-2423H.003     Ni-2623N.004\n",
            " Cu-2423B.002\t   Cu-2623G.001       Ni-2423H.004     Ni-2623O.001\n",
            " Cu-2423B.003\t   Cu-2623G.002       Ni-2423I.001     Ni-2623O.002\n",
            " Cu-2423B.004\t   Cu-2623G.003       Ni-2423I.002     Ni-2623O.003\n",
            " Cu-2423C.001\t   Cu-2623G.004       Ni-2423I.003     Ni-2623O.004\n",
            " Cu-2423C.002\t   Cu-2623H.001       Ni-2423I.004     Ni-3223.001\n",
            " Cu-2423C.003\t   Cu-2623H.002       Ni-2423J.001     Ni-3223.002\n",
            " Cu-2423C.004\t   Cu-2623H.003       Ni-2423J.002     Ni-3223.003\n",
            " Cu-2423D.001\t   Cu-2623H.004       Ni-2423J.003     Ni-3223.004\n",
            " Cu-2423D.002\t   Cu-2623I.001       Ni-2423J.004     Ni-3323.001\n",
            " Cu-2423D.003\t   Cu-2623I.002       Ni-2423K.001     Ni-3323.002\n",
            " Cu-2423D.004\t   Cu-2623I.003       Ni-2423K.002     Ni-3323.003\n",
            " Cu-2423E.001\t   Cu-2623I.004       Ni-2423K.003     Ni-3323.004\n",
            " Cu-2423E.002\t   Cu-2623J.001       Ni-2423K.004     Ni-3523.001\n",
            " Cu-2423E.003\t   Cu-2623J.002       Ni-2423L.001     Ni-3523.002\n",
            " Cu-2423E.004\t   Cu-2623J.003       Ni-2423L.002     Ni-3523.003\n",
            " Cu-2423F.001\t   Cu-2623J.004       Ni-2423L.003     Ni-3523.004\n",
            " Cu-2423F.002\t   Cu-2623L.001       Ni-2423L.004     Ni-3523A.001\n",
            " Cu-2423F.003\t   Cu-2623L.002       Ni-2423M.001     Ni-3523A.002\n",
            " Cu-2423F.004\t   Cu-2623L.003       Ni-2423M.002     Ni-3523A.003\n",
            " Cu-2423G.001\t   Cu-2623L.004       Ni-2423M.003     Ni-3523A.004\n",
            " Cu-2423G.002\t   Cu-2623M.001       Ni-2423M.004     Ni-3523B.001\n",
            " Cu-2423G.003\t   Cu-2623M.002       Ni-2423N.001     Ni-3523B.002\n",
            " Cu-2423G.004\t   Cu-2623M.003       Ni-2423N.002     Ni-3523B.003\n",
            " Cu-2423H.001\t   Cu-2623M.004       Ni-2423N.003     Ni-3523B.004\n",
            " Cu-2423H.002\t   Cu-2623N.001       Ni-2423N.004     Ni-3523C.001\n",
            " Cu-2423H.003\t   Cu-2623N.002       Ni-2423O.001     Ni-3523C.002\n",
            " Cu-2423H.004\t   Cu-2623N.003       Ni-2423O.002     Ni-3523C.003\n",
            " Cu-2423I.001\t   Cu-2623N.004       Ni-2423O.003     Ni-3523C.004\n",
            " Cu-2423I.002\t   Cu-2623O.001       Ni-2423O.004     Ni-3523D.001\n",
            " Cu-2423I.003\t   Cu-2623O.002       Ni-2623.001      Ni-3523D.002\n",
            " Cu-2423I.004\t   Cu-2623O.003       Ni-2623.002      Ni-3523D.003\n",
            " Cu-2423J.001\t   Cu-2623O.004       Ni-2623.003      Ni-3523D.004\n",
            " Cu-2423J.002\t   Cu-3223.001\t      Ni-2623.004      Ni-3523E.001\n",
            " Cu-2423J.003\t   Cu-3223.002\t      Ni-2623A.001     Ni-3523E.002\n",
            " Cu-2423J.004\t   Cu-3223.003\t      Ni-2623A.002     Ni-3523E.003\n",
            " Cu-2423K.001\t   Cu-3223.004\t      Ni-2623A.003     Ni-3523E.004\n",
            " Cu-2423K.002\t   Cu-3323.001\t      Ni-2623A.004    'norm(E)'\n",
            " Cu-2423K.003\t   Cu-3323.002\t      Ni-2623B.001     prj\n",
            " Cu-2423K.004\t   Cu-3323.003\t      Ni-2623B.002     raw\n",
            " Cu-2423L.001\t   Cu-3323.004\t      Ni-2623B.003     snapshots\n",
            " Cu-2423L.002\t   dossier\t      Ni-2623B.004     templates\n",
            " Cu-2423L.003\t   doublewheel.xlsx   Ni-2623C.001     XRF\n",
            " Cu-2423L.004\t   dw1.ini\t      Ni-2623C.002\n",
            " Cu-2423M.001\t   dw1_macro.py       Ni-2623C.003\n"
          ]
        }
      ]
    }
  ]
}