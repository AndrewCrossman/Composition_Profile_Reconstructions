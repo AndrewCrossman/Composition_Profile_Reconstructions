{
  "nbformat": 4,
  "nbformat_minor": 0,
  "metadata": {
    "colab": {
      "provenance": [],
      "authorship_tag": "ABX9TyNpwffE6a1HObg48rlkfENY",
      "include_colab_link": true
    },
    "kernelspec": {
      "name": "python3",
      "display_name": "Python 3"
    },
    "language_info": {
      "name": "python"
    }
  },
  "cells": [
    {
      "cell_type": "markdown",
      "metadata": {
        "id": "view-in-github",
        "colab_type": "text"
      },
      "source": [
        "<a href=\"https://colab.research.google.com/github/AndrewCrossman/Graduate_Research/blob/main/BNL_Scripts/Topas_Fits_Analysis.ipynb\" target=\"_parent\"><img src=\"https://colab.research.google.com/assets/colab-badge.svg\" alt=\"Open In Colab\"/></a>"
      ]
    },
    {
      "cell_type": "markdown",
      "source": [
        "#Topas Fits Analysis\n",
        "\n",
        "*Analyzes fitted data parameters from Topas.*"
      ],
      "metadata": {
        "id": "nVJC3a3WeV9i"
      }
    },
    {
      "cell_type": "markdown",
      "source": [
        "##Imports"
      ],
      "metadata": {
        "id": "qT8J8JFset7X"
      }
    },
    {
      "cell_type": "code",
      "execution_count": 1,
      "metadata": {
        "colab": {
          "base_uri": "https://localhost:8080/"
        },
        "id": "mndZdzC_cZ3p",
        "outputId": "e7a3ef1d-5a6a-4e92-e43c-9ac2c10b77d2"
      },
      "outputs": [
        {
          "output_type": "stream",
          "name": "stdout",
          "text": [
            "Populating the interactive namespace from numpy and matplotlib\n"
          ]
        },
        {
          "output_type": "stream",
          "name": "stderr",
          "text": [
            "/usr/local/lib/python3.10/dist-packages/IPython/core/magics/pylab.py:159: UserWarning: pylab import has clobbered these variables: ['plt']\n",
            "`%matplotlib` prevents importing * from pylab and numpy\n",
            "  warn(\"pylab import has clobbered these variables: %s\"  % clobbered +\n"
          ]
        }
      ],
      "source": [
        "from google.colab import drive  #allows downloading and accessing files on drive\n",
        "from google.colab import files  #allows downloading and accessing files on drive\n",
        "import shutil                   #allows uploading files to drive\n",
        "import glob                     #useful for collecting and organizing files\n",
        "import csv\n",
        "import numpy as np              #math library\n",
        "import pandas as pd             #data organization library\n",
        "import scipy as sp              #math library\n",
        "from scipy import optimize      #math fitting library\n",
        "import matplotlib.pylab as plt  #allows for plotting\n",
        "%pylab inline"
      ]
    },
    {
      "cell_type": "markdown",
      "source": [
        "## Extract Data from Google Drive"
      ],
      "metadata": {
        "id": "xA7Z2CbLeweb"
      }
    },
    {
      "cell_type": "code",
      "source": [
        "drive.mount('/content/drive/', force_remount=True)"
      ],
      "metadata": {
        "id": "9DSZCNi7cjJ0"
      },
      "execution_count": null,
      "outputs": []
    },
    {
      "cell_type": "code",
      "source": [
        "directory_path = '/content/drive/Shareddrives/BNL_June_2024/DataFiles/CeO2_PDF_600_1sec/integration'\n",
        "#tth_files = glob.glob(directory_path + '/*tth.xy')"
      ],
      "metadata": {
        "id": "rX96DEJqckQa"
      },
      "execution_count": 2,
      "outputs": []
    },
    {
      "cell_type": "code",
      "source": [
        "data_file = \"directory_path\"+\"/Fit_results.txt\"\n",
        "data = pd.read_csv(data_file, names=[\"FileName\", \"r_wp\", \"lp\", \"lp_error\"])"
      ],
      "metadata": {
        "id": "USLBczshdCJF"
      },
      "execution_count": null,
      "outputs": []
    },
    {
      "cell_type": "markdown",
      "source": [
        "## Analyze Data"
      ],
      "metadata": {
        "id": "NRTXOc1Ue4FV"
      }
    },
    {
      "cell_type": "code",
      "source": [
        "pd.plotting.scatter_matrix(data, alpha=.2, figsize=(12,18));"
      ],
      "metadata": {
        "id": "iQPPyMp3eURv"
      },
      "execution_count": null,
      "outputs": []
    }
  ]
}