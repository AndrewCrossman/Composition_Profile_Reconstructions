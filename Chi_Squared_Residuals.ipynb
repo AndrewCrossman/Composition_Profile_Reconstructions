{
  "nbformat": 4,
  "nbformat_minor": 0,
  "metadata": {
    "colab": {
      "provenance": [],
      "include_colab_link": true
    },
    "kernelspec": {
      "name": "python3",
      "display_name": "Python 3"
    },
    "language_info": {
      "name": "python"
    }
  },
  "cells": [
    {
      "cell_type": "markdown",
      "metadata": {
        "id": "view-in-github",
        "colab_type": "text"
      },
      "source": [
        "<a href=\"https://colab.research.google.com/github/AndrewCrossman/Graduate_Research/blob/main/Chi_Squared_Residuals.ipynb\" target=\"_parent\"><img src=\"https://colab.research.google.com/assets/colab-badge.svg\" alt=\"Open In Colab\"/></a>"
      ]
    },
    {
      "cell_type": "markdown",
      "source": [
        "# Import Packages"
      ],
      "metadata": {
        "id": "onLqwsvpSw4d"
      }
    },
    {
      "cell_type": "code",
      "execution_count": 3,
      "metadata": {
        "colab": {
          "base_uri": "https://localhost:8080/"
        },
        "id": "FSzI7v_gmfR1",
        "outputId": "393f6da6-aebf-4b27-bfb8-693559b141be"
      },
      "outputs": [
        {
          "output_type": "stream",
          "name": "stdout",
          "text": [
            "Populating the interactive namespace from numpy and matplotlib\n"
          ]
        },
        {
          "output_type": "stream",
          "name": "stderr",
          "text": [
            "/usr/local/lib/python3.10/dist-packages/IPython/core/magics/pylab.py:159: UserWarning: pylab import has clobbered these variables: ['plt']\n",
            "`%matplotlib` prevents importing * from pylab and numpy\n",
            "  warn(\"pylab import has clobbered these variables: %s\"  % clobbered +\n"
          ]
        }
      ],
      "source": [
        "import csv\n",
        "import numpy as np\n",
        "import pandas as pd\n",
        "import scipy as sp\n",
        "from scipy import optimize\n",
        "from google.colab import files\n",
        "import matplotlib.pylab as plt\n",
        "%pylab inline"
      ]
    },
    {
      "cell_type": "markdown",
      "source": [
        "# Assign Variables"
      ],
      "metadata": {
        "id": "Fz1KuSw8Szli"
      }
    },
    {
      "cell_type": "code",
      "source": [
        "############################################################\n",
        "# Assign Input File Names\n",
        "############################################################\n",
        "extension_target = \"\"\n",
        "extension_model =  \"\"\n",
        "pdf_target = extension_target = \"\"\n",
        "xrd_target = extension_target = \"\"\n",
        "bld11_target = extension_target = \"\"\n",
        "bld12_target = extension_target = \"\"\n",
        "bld22_target = extension_target = \"\"\n",
        "cp_target = extension_target = \"\"\n",
        "pdf_model = extension_model = \"\"\n",
        "xrd_model = extension_model = \"\"\n",
        "bld11_model = extension_model = \"\"\n",
        "bld12_model = extension_model = \"\"\n",
        "bld22_model = extension_model = \"\"\n",
        "cp_model = extension_model = \"\"\n",
        "############################################################\n",
        "# Assign Output File Names\n",
        "############################################################\n",
        "pdf_export =\n",
        "xrd_export =\n",
        "bld11_export =\n",
        "bld12_export =\n",
        "bld22_export =\n",
        "cp_export ="
      ],
      "metadata": {
        "id": "qPAvOOVDmtu9",
        "colab": {
          "base_uri": "https://localhost:8080/",
          "height": 216
        },
        "outputId": "3fd87ca3-2d96-4f1a-c2de-6a4a653f55c4"
      },
      "execution_count": 4,
      "outputs": [
        {
          "output_type": "error",
          "ename": "NameError",
          "evalue": "name 'requests' is not defined",
          "traceback": [
            "\u001b[0;31m---------------------------------------------------------------------------\u001b[0m",
            "\u001b[0;31mNameError\u001b[0m                                 Traceback (most recent call last)",
            "\u001b[0;32m<ipython-input-4-9d0b9b0ae283>\u001b[0m in \u001b[0;36m<cell line: 8>\u001b[0;34m()\u001b[0m\n\u001b[1;32m      6\u001b[0m \u001b[0mPlotTitle\u001b[0m \u001b[0;34m=\u001b[0m \u001b[0;34mr'$Au_{50}/Pd_{50}$ 4-10-5'\u001b[0m\u001b[0;34m\u001b[0m\u001b[0;34m\u001b[0m\u001b[0m\n\u001b[1;32m      7\u001b[0m \u001b[0msavename\u001b[0m \u001b[0;34m=\u001b[0m \u001b[0;34m'Au50Pd50_4-10-5_chi_squared_runs.png'\u001b[0m\u001b[0;34m\u001b[0m\u001b[0;34m\u001b[0m\u001b[0m\n\u001b[0;32m----> 8\u001b[0;31m \u001b[0mpage1\u001b[0m \u001b[0;34m=\u001b[0m \u001b[0mrequests\u001b[0m\u001b[0;34m.\u001b[0m\u001b[0mget\u001b[0m\u001b[0;34m(\u001b[0m\u001b[0murl1\u001b[0m\u001b[0;34m)\u001b[0m\u001b[0;34m\u001b[0m\u001b[0;34m\u001b[0m\u001b[0m\n\u001b[0m\u001b[1;32m      9\u001b[0m \u001b[0mpage2\u001b[0m \u001b[0;34m=\u001b[0m \u001b[0mrequests\u001b[0m\u001b[0;34m.\u001b[0m\u001b[0mget\u001b[0m\u001b[0;34m(\u001b[0m\u001b[0murl2\u001b[0m\u001b[0;34m)\u001b[0m\u001b[0;34m\u001b[0m\u001b[0;34m\u001b[0m\u001b[0m\n\u001b[1;32m     10\u001b[0m \u001b[0mpage3\u001b[0m \u001b[0;34m=\u001b[0m \u001b[0mrequests\u001b[0m\u001b[0;34m.\u001b[0m\u001b[0mget\u001b[0m\u001b[0;34m(\u001b[0m\u001b[0murl3\u001b[0m\u001b[0;34m)\u001b[0m\u001b[0;34m\u001b[0m\u001b[0;34m\u001b[0m\u001b[0m\n",
            "\u001b[0;31mNameError\u001b[0m: name 'requests' is not defined"
          ]
        }
      ]
    },
    {
      "cell_type": "markdown",
      "source": [
        "# Helper Functions"
      ],
      "metadata": {
        "id": "ceMQ78QdUtn9"
      }
    },
    {
      "cell_type": "code",
      "source": [
        "def chi_squared_residuals(target,model):\n",
        "  '''\n",
        "  Input two arrays two solve for the normalized residuals of\n",
        "  Outputs the sum of the residuals and the element wise residuals array\n",
        "  X^2 = SUM{ (target - model)^2 / model }\n",
        "  '''\n",
        "  element_wise_residuals = np.divide(np.square(np.subtract(target,model)),target)\n",
        "  return np.sum(np.multiply(element_wise_residuals),1/len(target)), element_wise_residuals"
      ],
      "metadata": {
        "id": "LW4caCY-UyMi"
      },
      "execution_count": 6,
      "outputs": []
    },
    {
      "cell_type": "markdown",
      "source": [
        "# Calculate Chi Squared Residuals"
      ],
      "metadata": {
        "id": "TkUZMxElW6uS"
      }
    },
    {
      "cell_type": "markdown",
      "source": [
        "## PDF Residuals"
      ],
      "metadata": {
        "id": "npxGjrH7YpQv"
      }
    },
    {
      "cell_type": "code",
      "source": [
        "pdf_x2, pdf_x2_array = chi_squared_residuals(pdf_target,pdf_model)"
      ],
      "metadata": {
        "id": "1tIYDFHVYrvA"
      },
      "execution_count": null,
      "outputs": []
    },
    {
      "cell_type": "markdown",
      "source": [
        "##XRD Residuals"
      ],
      "metadata": {
        "id": "0t1hMf2NY5pH"
      }
    },
    {
      "cell_type": "code",
      "source": [
        "xrd_x2, xrd_x2_array = chi_squared_residuals(xrd_target,xrd_model)"
      ],
      "metadata": {
        "colab": {
          "base_uri": "https://localhost:8080/",
          "height": 144
        },
        "id": "dOEk2CanY8jz",
        "outputId": "56250035-cc52-4f46-f103-444d83b32469"
      },
      "execution_count": 7,
      "outputs": [
        {
          "output_type": "error",
          "ename": "NameError",
          "evalue": "name 'pdf_target' is not defined",
          "traceback": [
            "\u001b[0;31m---------------------------------------------------------------------------\u001b[0m",
            "\u001b[0;31mNameError\u001b[0m                                 Traceback (most recent call last)",
            "\u001b[0;32m<ipython-input-7-9e5ee97059bf>\u001b[0m in \u001b[0;36m<cell line: 1>\u001b[0;34m()\u001b[0m\n\u001b[0;32m----> 1\u001b[0;31m \u001b[0mpdf_x2\u001b[0m\u001b[0;34m,\u001b[0m \u001b[0mpdf_x2_array\u001b[0m \u001b[0;34m=\u001b[0m \u001b[0mchi_squared_residuals\u001b[0m\u001b[0;34m(\u001b[0m\u001b[0mpdf_target\u001b[0m\u001b[0;34m,\u001b[0m\u001b[0mpdf_model\u001b[0m\u001b[0;34m)\u001b[0m\u001b[0;34m\u001b[0m\u001b[0;34m\u001b[0m\u001b[0m\n\u001b[0m",
            "\u001b[0;31mNameError\u001b[0m: name 'pdf_target' is not defined"
          ]
        }
      ]
    },
    {
      "cell_type": "markdown",
      "source": [
        "## BLD Residuals"
      ],
      "metadata": {
        "id": "uy98iNDnZAls"
      }
    },
    {
      "cell_type": "code",
      "source": [
        "bld11_x2, bld11_x2_array = chi_squared_residuals(bld11_target,bld11_model)\n",
        "bld12_x2, bld12_x2_array = chi_squared_residuals(bld12_target,bld12_model)\n",
        "bld22_x2, bld22_x2_array = chi_squared_residuals(bld22_target,bld22_model)"
      ],
      "metadata": {
        "colab": {
          "base_uri": "https://localhost:8080/",
          "height": 180
        },
        "id": "UKd79egqZDYt",
        "outputId": "4c249fe7-38bf-447e-8998-c907b0b92baa"
      },
      "execution_count": 8,
      "outputs": [
        {
          "output_type": "error",
          "ename": "NameError",
          "evalue": "name 'xrd_target' is not defined",
          "traceback": [
            "\u001b[0;31m---------------------------------------------------------------------------\u001b[0m",
            "\u001b[0;31mNameError\u001b[0m                                 Traceback (most recent call last)",
            "\u001b[0;32m<ipython-input-8-64d8d682ff55>\u001b[0m in \u001b[0;36m<cell line: 1>\u001b[0;34m()\u001b[0m\n\u001b[0;32m----> 1\u001b[0;31m \u001b[0mxrd_x2\u001b[0m\u001b[0;34m,\u001b[0m \u001b[0mxrd_x2_array\u001b[0m \u001b[0;34m=\u001b[0m \u001b[0mchi_squared_residuals\u001b[0m\u001b[0;34m(\u001b[0m\u001b[0mxrd_target\u001b[0m\u001b[0;34m,\u001b[0m\u001b[0mxrd_model\u001b[0m\u001b[0;34m)\u001b[0m\u001b[0;34m\u001b[0m\u001b[0;34m\u001b[0m\u001b[0m\n\u001b[0m\u001b[1;32m      2\u001b[0m \u001b[0mxrd_x2\u001b[0m\u001b[0;34m,\u001b[0m \u001b[0mxrd_x2_array\u001b[0m \u001b[0;34m=\u001b[0m \u001b[0mchi_squared_residuals\u001b[0m\u001b[0;34m(\u001b[0m\u001b[0mxrd_target\u001b[0m\u001b[0;34m,\u001b[0m\u001b[0mxrd_model\u001b[0m\u001b[0;34m)\u001b[0m\u001b[0;34m\u001b[0m\u001b[0;34m\u001b[0m\u001b[0m\n\u001b[1;32m      3\u001b[0m \u001b[0mxrd_x2\u001b[0m\u001b[0;34m,\u001b[0m \u001b[0mxrd_x2_array\u001b[0m \u001b[0;34m=\u001b[0m \u001b[0mchi_squared_residuals\u001b[0m\u001b[0;34m(\u001b[0m\u001b[0mxrd_target\u001b[0m\u001b[0;34m,\u001b[0m\u001b[0mxrd_model\u001b[0m\u001b[0;34m)\u001b[0m\u001b[0;34m\u001b[0m\u001b[0;34m\u001b[0m\u001b[0m\n",
            "\u001b[0;31mNameError\u001b[0m: name 'xrd_target' is not defined"
          ]
        }
      ]
    },
    {
      "cell_type": "markdown",
      "source": [
        "## Composition Profile Residuals"
      ],
      "metadata": {
        "id": "ZpTKj9tQZPsV"
      }
    },
    {
      "cell_type": "code",
      "source": [
        "cp_x2, cp_x2_array = chi_squared_residuals(cp_target,cp_model)"
      ],
      "metadata": {
        "id": "u3XepQeRZSqM"
      },
      "execution_count": null,
      "outputs": []
    }
  ]
}