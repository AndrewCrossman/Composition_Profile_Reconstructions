{
  "nbformat": 4,
  "nbformat_minor": 0,
  "metadata": {
    "colab": {
      "provenance": [],
      "include_colab_link": true
    },
    "kernelspec": {
      "name": "python3",
      "display_name": "Python 3"
    },
    "language_info": {
      "name": "python"
    }
  },
  "cells": [
    {
      "cell_type": "markdown",
      "metadata": {
        "id": "view-in-github",
        "colab_type": "text"
      },
      "source": [
        "<a href=\"https://colab.research.google.com/github/AndrewCrossman/Graduate_Research/blob/main/Chi_Squared_Residuals.ipynb\" target=\"_parent\"><img src=\"https://colab.research.google.com/assets/colab-badge.svg\" alt=\"Open In Colab\"/></a>"
      ]
    },
    {
      "cell_type": "markdown",
      "source": [
        "# Import Packages"
      ],
      "metadata": {
        "id": "onLqwsvpSw4d"
      }
    },
    {
      "cell_type": "code",
      "execution_count": 1,
      "metadata": {
        "colab": {
          "base_uri": "https://localhost:8080/"
        },
        "id": "FSzI7v_gmfR1",
        "outputId": "3916bb2e-6ef2-4117-ae9c-c17c9161a3d0"
      },
      "outputs": [
        {
          "output_type": "stream",
          "name": "stdout",
          "text": [
            "Populating the interactive namespace from numpy and matplotlib\n"
          ]
        },
        {
          "output_type": "stream",
          "name": "stderr",
          "text": [
            "/usr/local/lib/python3.10/dist-packages/IPython/core/magics/pylab.py:159: UserWarning: pylab import has clobbered these variables: ['plt']\n",
            "`%matplotlib` prevents importing * from pylab and numpy\n",
            "  warn(\"pylab import has clobbered these variables: %s\"  % clobbered +\n"
          ]
        }
      ],
      "source": [
        "import csv\n",
        "import numpy as np\n",
        "import pandas as pd\n",
        "import scipy as sp\n",
        "from scipy import optimize\n",
        "from google.colab import files\n",
        "import matplotlib.pylab as plt\n",
        "%pylab inline"
      ]
    },
    {
      "cell_type": "markdown",
      "source": [
        "# Assign Variables"
      ],
      "metadata": {
        "id": "Fz1KuSw8Szli"
      }
    },
    {
      "cell_type": "code",
      "source": [
        "############################################################\n",
        "# Assign Input File Names\n",
        "############################################################\n",
        "extension_target = \"https://raw.githubusercontent.com/AndrewCrossman/Graduate_Research/main/Tests/Au50Pd50_Profiles/Dt0/MC_Coreshell5050_AuPd_onAu_r25_2000Cycles/\"\n",
        "extension_model =  \"https://raw.githubusercontent.com/AndrewCrossman/Graduate_Research/main/Tests/Au50Pd50_Profiles/Dt0/RMC-1-20-25/\"\n",
        "pdf_target = extension_target + \"2000.apd\"\n",
        "xrd_target = extension_target + \"2000.xrd\"\n",
        "bld11_target = extension_target + \"2000_AuAu.bld\"\n",
        "bld12_target = extension_target + \"2000_AuPd.bld\"\n",
        "bld22_target = extension_target + \"2000_PdPd.bld\"\n",
        "cp_target = extension_target + \"\"\n",
        "pdf_model = extension_model + \"1-20.apd\"\n",
        "xrd_model = extension_model + \"1-20.xrd\"\n",
        "bld11_model = extension_model + \"1-20_AuAu.bld\"\n",
        "bld12_model = extension_model + \"1-20_AuPd.bld\"\n",
        "bld22_model = extension_model + \"1-20_PdPd.bld\"\n",
        "cp_model = extension_model + \"\"\n",
        "############################################################\n",
        "# Assign Output File Names\n",
        "############################################################\n",
        "pdf_export = \"\"\n",
        "xrd_export = \"\"\n",
        "bld11_export = \"\"\n",
        "bld12_export = \"\"\n",
        "bld22_export = \"\"\n",
        "cp_export = \"\""
      ],
      "metadata": {
        "id": "qPAvOOVDmtu9"
      },
      "execution_count": 2,
      "outputs": []
    },
    {
      "cell_type": "markdown",
      "source": [
        "# Helper Functions"
      ],
      "metadata": {
        "id": "ceMQ78QdUtn9"
      }
    },
    {
      "cell_type": "code",
      "source": [
        "def read_csv(csv_name,col_names):\n",
        "  \"\"\"\n",
        "  Input csv file name and column names\n",
        "  Outputs pandas dataframe\n",
        "  \"\"\"\n",
        "  return pd.read_csv(csv_name,sep='\\s+', names=col_names, header=None)"
      ],
      "metadata": {
        "id": "9ojLkmNSqj-T"
      },
      "execution_count": 3,
      "outputs": []
    },
    {
      "cell_type": "code",
      "source": [
        "def chi_squared_residuals(target,model):\n",
        "  '''\n",
        "  Input two arrays two solve for the normalized residuals of\n",
        "  Outputs the sum of the residuals and the element wise residuals array\n",
        "  X^2 = SUM{ (target - model)^2 / model }\n",
        "  '''\n",
        "  element_wise_residuals = np.divide(np.square(np.subtract(target,model)),target)\n",
        "  return np.sum(element_wise_residuals), element_wise_residuals"
      ],
      "metadata": {
        "id": "LW4caCY-UyMi"
      },
      "execution_count": 4,
      "outputs": []
    },
    {
      "cell_type": "code",
      "source": [
        "pdf_colnames = [\"r\",\"G\",\"idk\",\"idk2\"]\n",
        "pdf_data_target = read_csv(pdf_target, pdf_colnames)\n",
        "pdf_data_model = read_csv(pdf_model, pdf_colnames)\n",
        "xrd_colnames = [\"2theta\", \"I\"]\n",
        "xrd_data_target = read_csv(xrd_target, xrd_colnames)\n",
        "xrd_data_model = read_csv(xrd_model, xrd_colnames)\n",
        "bld_colnames = [\"r\",\"bld\"]\n",
        "bld11_data_target = read_csv(bld11_target, bld_colnames)\n",
        "bld12_data_target = read_csv(bld12_target, bld_colnames)\n",
        "bld22_data_target = read_csv(bld22_target, bld_colnames)\n",
        "bld11_data_model = read_csv(bld11_model, bld_colnames)\n",
        "bld12_data_model = read_csv(bld12_model, bld_colnames)\n",
        "bld22_data_model = read_csv(bld22_model, bld_colnames)"
      ],
      "metadata": {
        "id": "4SPfkpTsrDHB"
      },
      "execution_count": 5,
      "outputs": []
    },
    {
      "cell_type": "markdown",
      "source": [
        "# Calculate Chi Squared Residuals"
      ],
      "metadata": {
        "id": "TkUZMxElW6uS"
      }
    },
    {
      "cell_type": "code",
      "source": [
        "# TEST\n",
        "a = [1,2,3]\n",
        "b = [2,2,2]\n",
        "np.sum(np.divide(np.square(np.subtract(a,b)),a))"
      ],
      "metadata": {
        "colab": {
          "base_uri": "https://localhost:8080/"
        },
        "id": "QjUDd8IN3GwX",
        "outputId": "04addf30-81f2-466a-fb8c-6041bc7a5893"
      },
      "execution_count": 17,
      "outputs": [
        {
          "output_type": "execute_result",
          "data": {
            "text/plain": [
              "1.3333333333333333"
            ]
          },
          "metadata": {},
          "execution_count": 17
        }
      ]
    },
    {
      "cell_type": "markdown",
      "source": [
        "## PDF Residuals"
      ],
      "metadata": {
        "id": "npxGjrH7YpQv"
      }
    },
    {
      "cell_type": "code",
      "source": [
        "pdf_x2, pdf_x2_array = chi_squared_residuals(pdf_data_target[\"G\"],pdf_data_model[\"G\"])\n",
        "pdf_x2"
      ],
      "metadata": {
        "id": "1tIYDFHVYrvA",
        "colab": {
          "base_uri": "https://localhost:8080/"
        },
        "outputId": "b3b8a7de-66ea-40f7-b1e0-a2c4f88089b9"
      },
      "execution_count": 8,
      "outputs": [
        {
          "output_type": "execute_result",
          "data": {
            "text/plain": [
              "39.32254710517825"
            ]
          },
          "metadata": {},
          "execution_count": 8
        }
      ]
    },
    {
      "cell_type": "code",
      "source": [
        "plt.plot(pdf_data_target[\"r\"],pdf_x2_array, 'k')\n",
        "plt.plot(pdf_data_target[\"r\"],pdf_data_target[\"G\"], 'b')\n",
        "plt.plot(pdf_data_target[\"r\"],pdf_data_model[\"G\"], 'r')\n",
        "#plt.xlim(49.7,49.8)\n",
        "#plt.ylim(-.1,.1)"
      ],
      "metadata": {
        "colab": {
          "base_uri": "https://localhost:8080/",
          "height": 448
        },
        "id": "NUaQEujqNglo",
        "outputId": "1392b763-8bf2-4851-844c-dcb4c7db3496"
      },
      "execution_count": 21,
      "outputs": [
        {
          "output_type": "execute_result",
          "data": {
            "text/plain": [
              "[<matplotlib.lines.Line2D at 0x7a3a3ba9c6d0>]"
            ]
          },
          "metadata": {},
          "execution_count": 21
        },
        {
          "output_type": "display_data",
          "data": {
            "text/plain": [
              "<Figure size 640x480 with 1 Axes>"
            ],
            "image/png": "[encoded data removed]"
          },
          "metadata": {}
        }
      ]
    },
    {
      "cell_type": "markdown",
      "source": [
        "##XRD Residuals"
      ],
      "metadata": {
        "id": "0t1hMf2NY5pH"
      }
    },
    {
      "cell_type": "code",
      "source": [
        "xrd_x2, xrd_x2_array = chi_squared_residuals(xrd_target,xrd_model)"
      ],
      "metadata": {
        "colab": {
          "base_uri": "https://localhost:8080/",
          "height": 144
        },
        "id": "dOEk2CanY8jz",
        "outputId": "56250035-cc52-4f46-f103-444d83b32469"
      },
      "execution_count": null,
      "outputs": [
        {
          "output_type": "error",
          "ename": "NameError",
          "evalue": "name 'pdf_target' is not defined",
          "traceback": [
            "\u001b[0;31m---------------------------------------------------------------------------\u001b[0m",
            "\u001b[0;31mNameError\u001b[0m                                 Traceback (most recent call last)",
            "\u001b[0;32m<ipython-input-7-9e5ee97059bf>\u001b[0m in \u001b[0;36m<cell line: 1>\u001b[0;34m()\u001b[0m\n\u001b[0;32m----> 1\u001b[0;31m \u001b[0mpdf_x2\u001b[0m\u001b[0;34m,\u001b[0m \u001b[0mpdf_x2_array\u001b[0m \u001b[0;34m=\u001b[0m \u001b[0mchi_squared_residuals\u001b[0m\u001b[0;34m(\u001b[0m\u001b[0mpdf_target\u001b[0m\u001b[0;34m,\u001b[0m\u001b[0mpdf_model\u001b[0m\u001b[0;34m)\u001b[0m\u001b[0;34m\u001b[0m\u001b[0;34m\u001b[0m\u001b[0m\n\u001b[0m",
            "\u001b[0;31mNameError\u001b[0m: name 'pdf_target' is not defined"
          ]
        }
      ]
    },
    {
      "cell_type": "markdown",
      "source": [
        "## BLD Residuals"
      ],
      "metadata": {
        "id": "uy98iNDnZAls"
      }
    },
    {
      "cell_type": "code",
      "source": [
        "bld11_x2, bld11_x2_array = chi_squared_residuals(bld11_target,bld11_model)\n",
        "bld12_x2, bld12_x2_array = chi_squared_residuals(bld12_target,bld12_model)\n",
        "bld22_x2, bld22_x2_array = chi_squared_residuals(bld22_target,bld22_model)"
      ],
      "metadata": {
        "colab": {
          "base_uri": "https://localhost:8080/",
          "height": 180
        },
        "id": "UKd79egqZDYt",
        "outputId": "4c249fe7-38bf-447e-8998-c907b0b92baa"
      },
      "execution_count": null,
      "outputs": [
        {
          "output_type": "error",
          "ename": "NameError",
          "evalue": "name 'xrd_target' is not defined",
          "traceback": [
            "\u001b[0;31m---------------------------------------------------------------------------\u001b[0m",
            "\u001b[0;31mNameError\u001b[0m                                 Traceback (most recent call last)",
            "\u001b[0;32m<ipython-input-8-64d8d682ff55>\u001b[0m in \u001b[0;36m<cell line: 1>\u001b[0;34m()\u001b[0m\n\u001b[0;32m----> 1\u001b[0;31m \u001b[0mxrd_x2\u001b[0m\u001b[0;34m,\u001b[0m \u001b[0mxrd_x2_array\u001b[0m \u001b[0;34m=\u001b[0m \u001b[0mchi_squared_residuals\u001b[0m\u001b[0;34m(\u001b[0m\u001b[0mxrd_target\u001b[0m\u001b[0;34m,\u001b[0m\u001b[0mxrd_model\u001b[0m\u001b[0;34m)\u001b[0m\u001b[0;34m\u001b[0m\u001b[0;34m\u001b[0m\u001b[0m\n\u001b[0m\u001b[1;32m      2\u001b[0m \u001b[0mxrd_x2\u001b[0m\u001b[0;34m,\u001b[0m \u001b[0mxrd_x2_array\u001b[0m \u001b[0;34m=\u001b[0m \u001b[0mchi_squared_residuals\u001b[0m\u001b[0;34m(\u001b[0m\u001b[0mxrd_target\u001b[0m\u001b[0;34m,\u001b[0m\u001b[0mxrd_model\u001b[0m\u001b[0;34m)\u001b[0m\u001b[0;34m\u001b[0m\u001b[0;34m\u001b[0m\u001b[0m\n\u001b[1;32m      3\u001b[0m \u001b[0mxrd_x2\u001b[0m\u001b[0;34m,\u001b[0m \u001b[0mxrd_x2_array\u001b[0m \u001b[0;34m=\u001b[0m \u001b[0mchi_squared_residuals\u001b[0m\u001b[0;34m(\u001b[0m\u001b[0mxrd_target\u001b[0m\u001b[0;34m,\u001b[0m\u001b[0mxrd_model\u001b[0m\u001b[0;34m)\u001b[0m\u001b[0;34m\u001b[0m\u001b[0;34m\u001b[0m\u001b[0m\n",
            "\u001b[0;31mNameError\u001b[0m: name 'xrd_target' is not defined"
          ]
        }
      ]
    },
    {
      "cell_type": "markdown",
      "source": [
        "## Composition Profile Residuals"
      ],
      "metadata": {
        "id": "ZpTKj9tQZPsV"
      }
    },
    {
      "cell_type": "code",
      "source": [
        "cp_x2, cp_x2_array = chi_squared_residuals(cp_target,cp_model)"
      ],
      "metadata": {
        "id": "u3XepQeRZSqM"
      },
      "execution_count": null,
      "outputs": []
    }
  ]
}