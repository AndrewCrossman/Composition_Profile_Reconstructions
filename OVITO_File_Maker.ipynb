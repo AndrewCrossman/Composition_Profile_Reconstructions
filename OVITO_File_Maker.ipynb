{
  "nbformat": 4,
  "nbformat_minor": 0,
  "metadata": {
    "colab": {
      "provenance": [],
      "authorship_tag": "ABX9TyPI5Xilf+V42Y09cSYgZlmc",
      "include_colab_link": true
    },
    "kernelspec": {
      "name": "python3",
      "display_name": "Python 3"
    },
    "language_info": {
      "name": "python"
    }
  },
  "cells": [
    {
      "cell_type": "markdown",
      "metadata": {
        "id": "view-in-github",
        "colab_type": "text"
      },
      "source": [
        "<a href=\"https://colab.research.google.com/github/AndrewCrossman/Graduate_Research/blob/main/OVITO_File_Maker.ipynb\" target=\"_parent\"><img src=\"https://colab.research.google.com/assets/colab-badge.svg\" alt=\"Open In Colab\"/></a>"
      ]
    },
    {
      "cell_type": "code",
      "execution_count": 1,
      "metadata": {
        "colab": {
          "base_uri": "https://localhost:8080/"
        },
        "id": "GykvauZ4mpGv",
        "outputId": "06b92f9c-91bf-4d63-d4e8-f13f78d9fa03"
      },
      "outputs": [
        {
          "output_type": "stream",
          "name": "stdout",
          "text": [
            "Populating the interactive namespace from numpy and matplotlib\n"
          ]
        },
        {
          "output_type": "stream",
          "name": "stderr",
          "text": [
            "/usr/local/lib/python3.8/dist-packages/IPython/core/magics/pylab.py:159: UserWarning: pylab import has clobbered these variables: ['plt']\n",
            "`%matplotlib` prevents importing * from pylab and numpy\n",
            "  warn(\"pylab import has clobbered these variables: %s\"  % clobbered +\n"
          ]
        }
      ],
      "source": [
        "import csv\n",
        "import numpy as np\n",
        "from astropy.coordinates import cartesian_to_spherical\n",
        "import pandas as pd\n",
        "import scipy as sp\n",
        "from scipy import optimize\n",
        "from google.colab import files\n",
        "import matplotlib.pylab as plt\n",
        "%pylab inline"
      ]
    },
    {
      "cell_type": "code",
      "source": [
        "\n",
        "file_unrelaxed = \"https://raw.githubusercontent.com/AndrewCrossman/Graduate_Research/main/Control/STRs/Sphere100_Au_onAu_voidless.stru\"\n",
        "latticeparameter = 4.0789"
      ],
      "metadata": {
        "id": "PE1Eo2ycm-R1"
      },
      "execution_count": 10,
      "outputs": []
    },
    {
      "cell_type": "code",
      "source": [
        "################################################################################\n",
        "# Extract and Format data from \"file_unrelaxed\"\n",
        "################################################################################\n",
        "data1 = pd.read_csv(file_unrelaxed, skiprows=3)\n",
        "data1 = data1.drop(data1.columns[3:], axis=1)\n",
        "data1[[\"atoms\", \"x\"]] = data1[data1.columns[0]].str.split(expand=True)\n",
        "data1 = data1.drop(data1.columns[0], axis=1)\n",
        "data1 = data1.set_axis([\"y\", \"z\", \"atom\", \"x\"], axis=1, inplace=False)\n",
        "data1[\"x\"] = data1[\"x\"].astype(float)*latticeparameter\n",
        "data1[\"y\"] = data1[\"y\"].astype(float)*latticeparameter\n",
        "data1[\"z\"] = data1[\"z\"].astype(float)*latticeparameter\n",
        "data1 = data1[[\"atom\",\"x\", \"y\", \"z\"]]"
      ],
      "metadata": {
        "id": "d5pJqo0AnC2s"
      },
      "execution_count": 11,
      "outputs": []
    },
    {
      "cell_type": "code",
      "source": [
        "data1.to_csv('Au.csv', index=False, sep='\\t')\n",
        "#data1.to_csv('Au.csv, mode=’a’, index=False, header=False)\n",
        "files.download('Au.csv')\n",
        "\n",
        "# check https://en.wikipedia.org/wiki/XYZ_file_format for proper formatting"
      ],
      "metadata": {
        "colab": {
          "base_uri": "https://localhost:8080/",
          "height": 17
        },
        "id": "g4zQSyYXnPHP",
        "outputId": "3b7e007f-a407-4f40-928e-27187d44eba8"
      },
      "execution_count": 13,
      "outputs": [
        {
          "output_type": "display_data",
          "data": {
            "text/plain": [
              "<IPython.core.display.Javascript object>"
            ],
            "application/javascript": [
              "\n",
              "    async function download(id, filename, size) {\n",
              "      if (!google.colab.kernel.accessAllowed) {\n",
              "        return;\n",
              "      }\n",
              "      const div = document.createElement('div');\n",
              "      const label = document.createElement('label');\n",
              "      label.textContent = `Downloading \"${filename}\": `;\n",
              "      div.appendChild(label);\n",
              "      const progress = document.createElement('progress');\n",
              "      progress.max = size;\n",
              "      div.appendChild(progress);\n",
              "      document.body.appendChild(div);\n",
              "\n",
              "      const buffers = [];\n",
              "      let downloaded = 0;\n",
              "\n",
              "      const channel = await google.colab.kernel.comms.open(id);\n",
              "      // Send a message to notify the kernel that we're ready.\n",
              "      channel.send({})\n",
              "\n",
              "      for await (const message of channel.messages) {\n",
              "        // Send a message to notify the kernel that we're ready.\n",
              "        channel.send({})\n",
              "        if (message.buffers) {\n",
              "          for (const buffer of message.buffers) {\n",
              "            buffers.push(buffer);\n",
              "            downloaded += buffer.byteLength;\n",
              "            progress.value = downloaded;\n",
              "          }\n",
              "        }\n",
              "      }\n",
              "      const blob = new Blob(buffers, {type: 'application/binary'});\n",
              "      const a = document.createElement('a');\n",
              "      a.href = window.URL.createObjectURL(blob);\n",
              "      a.download = filename;\n",
              "      div.appendChild(a);\n",
              "      a.click();\n",
              "      div.remove();\n",
              "    }\n",
              "  "
            ]
          },
          "metadata": {}
        },
        {
          "output_type": "display_data",
          "data": {
            "text/plain": [
              "<IPython.core.display.Javascript object>"
            ],
            "application/javascript": [
              "download(\"download_f8d12602-5544-4a0c-b2eb-9c7af2d652a3\", \"Au.csv\", 135692)"
            ]
          },
          "metadata": {}
        }
      ]
    }
  ]
}