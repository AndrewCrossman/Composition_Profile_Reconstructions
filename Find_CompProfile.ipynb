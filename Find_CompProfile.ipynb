{
  "nbformat": 4,
  "nbformat_minor": 0,
  "metadata": {
    "colab": {
      "provenance": [],
      "authorship_tag": "ABX9TyOftCjxnxskiu1DMtq6EBs9",
      "include_colab_link": true
    },
    "kernelspec": {
      "name": "python3",
      "display_name": "Python 3"
    },
    "language_info": {
      "name": "python"
    }
  },
  "cells": [
    {
      "cell_type": "markdown",
      "metadata": {
        "id": "view-in-github",
        "colab_type": "text"
      },
      "source": [
        "<a href=\"https://colab.research.google.com/github/AndrewCrossman/Research/blob/main/Find_CompProfile.ipynb\" target=\"_parent\"><img src=\"https://colab.research.google.com/assets/colab-badge.svg\" alt=\"Open In Colab\"/></a>"
      ]
    },
    {
      "cell_type": "markdown",
      "source": [
        "## Import Packages"
      ],
      "metadata": {
        "id": "YK1KEMnw9YOg"
      }
    },
    {
      "cell_type": "code",
      "execution_count": null,
      "metadata": {
        "colab": {
          "base_uri": "https://localhost:8080/"
        },
        "id": "kIBbySQ29L9B",
        "outputId": "0ffc130f-41c2-4499-f6a9-3c9cea2967b6"
      },
      "outputs": [
        {
          "output_type": "stream",
          "name": "stdout",
          "text": [
            "Populating the interactive namespace from numpy and matplotlib\n"
          ]
        }
      ],
      "source": [
        "import csv\n",
        "import numpy as np\n",
        "import pandas as pd\n",
        "import scipy as sp\n",
        "from scipy import optimize\n",
        "from google.colab import files\n",
        "import matplotlib.pylab as plt\n",
        "%pylab inline"
      ]
    },
    {
      "cell_type": "markdown",
      "source": [
        "## Helper Functions and Values"
      ],
      "metadata": {
        "id": "4We3zQhq9csb"
      }
    },
    {
      "cell_type": "code",
      "source": [
        "################################################################################\n",
        "# If code returns an error you may need to make this number smaller\n",
        "################################################################################\n",
        "numbin = 13"
      ],
      "metadata": {
        "id": "JRglLhMh9iVj"
      },
      "execution_count": null,
      "outputs": []
    },
    {
      "cell_type": "markdown",
      "source": [
        "## Extract Data and Name Variables"
      ],
      "metadata": {
        "id": "a_t0Mvog9o_e"
      }
    },
    {
      "cell_type": "code",
      "source": [
        "file = \"https://raw.githubusercontent.com/AndrewCrossman/Research/main/Tests/RMC_Coreshell5050_PtAu_on_Au_1-10-10/1-10.stru\"\n",
        "plotTitle = r'Unrelaxed PtAu'\n",
        "plotsavename = 'RMC_PtAu_CP.png'\n",
        "csvsavename = 'RMC_PtAu_CP.csv'"
      ],
      "metadata": {
        "id": "itf7rI7y9ojj"
      },
      "execution_count": null,
      "outputs": []
    },
    {
      "cell_type": "code",
      "source": [
        "data = pd.read_csv(file, skiprows=3)\n",
        "data = data.drop(data.columns[3:], axis=1)\n",
        "data[[\"atoms\", \"x\"]] = data[data.columns[0]].str.split(expand=True)\n",
        "data = data.drop(data.columns[0], axis=1)\n",
        "data = data.set_axis([\"y\", \"z\", \"atom\", \"x\"], axis=1, inplace=False)\n",
        "data[\"x\"] = data[\"x\"].astype(float)\n",
        "data[\"y\"] = data[\"y\"].astype(float)\n",
        "data[\"z\"] = data[\"z\"].astype(float)\n",
        "data[\"distance\"] = np.sqrt((data[\"x\"]*data[\"x\"] + data[\"y\"]*data[\"y\"] + data[\"z\"]*data[\"z\"])*(4.0789*4.0789))\n",
        "\n",
        "print(\"Max distance in angstroms \"+str(data[\"distance\"].max()))\n",
        "print(\"Min distance in angstroms \"+str(data[\"distance\"].min()))\n",
        "################################################################################\n",
        "# Bin Data between 0 and max distance in \"numbin\" divisions\n",
        "################################################################################\n",
        "# Make bins sizes based off of maximum radius\n",
        "# realBins = np.linspace(0,data[\"distance\"].max()+.01,numbin)\n",
        "# Make bins sizes based off of custom max radius\n",
        "realBins = np.linspace(0,26,numbin)\n",
        "realBins_truncated = np.around(realBins, decimals=2)\n",
        "data[\"bin\"] = pd.cut(data[\"distance\"], bins=realBins, right=False, precision=2,include_lowest='True',labels=realBins_truncated[1:])\n",
        "################################################################################\n",
        "# Group atom type by bin\n",
        "data2 = data.groupby(\"bin\")[\"atom\"].value_counts(normalize=True).unstack()\n",
        "data2 = data2.fillna(0)"
      ],
      "metadata": {
        "id": "FM8pBsjj9_VN",
        "colab": {
          "base_uri": "https://localhost:8080/"
        },
        "outputId": "76728f2c-1101-4ba1-dc97-df83f1ff7c01"
      },
      "execution_count": null,
      "outputs": [
        {
          "output_type": "stream",
          "name": "stdout",
          "text": [
            "Max distance in angstroms 26.6452689760754\n",
            "Min distance in angstroms 0.13836641206785927\n"
          ]
        }
      ]
    },
    {
      "cell_type": "markdown",
      "source": [
        "## Make Composition Profile Plot"
      ],
      "metadata": {
        "id": "EdBeKrCE-G9u"
      }
    },
    {
      "cell_type": "code",
      "source": [
        "################################################################################\n",
        "# Plot Data\n",
        "################################################################################\n",
        "fig, ax = plt.subplots(figsize=(7,5))\n",
        "for key in data2.keys():\n",
        "    data3 = data2[key].reset_index()\n",
        "    ax.scatter(realBins_truncated[1:],data3[key], label = key)\n",
        "################################################################################\n",
        "# Plot settings\n",
        "################################################################################\n",
        "ax.set_title(plotTitle, fontsize=20)\n",
        "ax.set_ylabel(\"Fraction\", fontsize=16)\n",
        "ax.tick_params(axis='y', labelsize=12, direction='in', length=8)\n",
        "ax.set_xlabel(\"Distance [A]\", fontsize=16)\n",
        "ax.tick_params(axis='x', labelsize=12, direction='in', length=8)\n",
        "ax.legend()\n",
        "ax.grid(True)\n",
        "plt.tight_layout()\n",
        "# Uncomment to save and download plots\n",
        "#plt.savefig(plotsavename)\n",
        "#files.download(plotsavename)"
      ],
      "metadata": {
        "id": "3-9-joMe-J0Z",
        "colab": {
          "base_uri": "https://localhost:8080/",
          "height": 369
        },
        "outputId": "bf31f32b-6c67-44a2-bcf7-e17c7cc63992"
      },
      "execution_count": null,
      "outputs": [
        {
          "output_type": "display_data",
          "data": {
            "text/plain": [
              "<Figure size 504x360 with 1 Axes>"
            ],
            "image/png": "[encoded data removed]"
          },
          "metadata": {
            "needs_background": "light"
          }
        }
      ]
    },
    {
      "cell_type": "markdown",
      "source": [
        "## Output Data as a csv file"
      ],
      "metadata": {
        "id": "UOP5j-VwJMrk"
      }
    },
    {
      "cell_type": "code",
      "source": [
        "data2.to_csv(csvsavename)\n",
        "files.download(csvsavename)"
      ],
      "metadata": {
        "colab": {
          "base_uri": "https://localhost:8080/",
          "height": 34
        },
        "id": "7fAf5IMwLjJ7",
        "outputId": "346ed522-3237-4fe8-b128-4b61ec21b01d"
      },
      "execution_count": null,
      "outputs": [
        {
          "output_type": "display_data",
          "data": {
            "text/plain": [
              "<IPython.core.display.Javascript object>"
            ],
            "application/javascript": [
              "\n",
              "    async function download(id, filename, size) {\n",
              "      if (!google.colab.kernel.accessAllowed) {\n",
              "        return;\n",
              "      }\n",
              "      const div = document.createElement('div');\n",
              "      const label = document.createElement('label');\n",
              "      label.textContent = `Downloading \"${filename}\": `;\n",
              "      div.appendChild(label);\n",
              "      const progress = document.createElement('progress');\n",
              "      progress.max = size;\n",
              "      div.appendChild(progress);\n",
              "      document.body.appendChild(div);\n",
              "\n",
              "      const buffers = [];\n",
              "      let downloaded = 0;\n",
              "\n",
              "      const channel = await google.colab.kernel.comms.open(id);\n",
              "      // Send a message to notify the kernel that we're ready.\n",
              "      channel.send({})\n",
              "\n",
              "      for await (const message of channel.messages) {\n",
              "        // Send a message to notify the kernel that we're ready.\n",
              "        channel.send({})\n",
              "        if (message.buffers) {\n",
              "          for (const buffer of message.buffers) {\n",
              "            buffers.push(buffer);\n",
              "            downloaded += buffer.byteLength;\n",
              "            progress.value = downloaded;\n",
              "          }\n",
              "        }\n",
              "      }\n",
              "      const blob = new Blob(buffers, {type: 'application/binary'});\n",
              "      const a = document.createElement('a');\n",
              "      a.href = window.URL.createObjectURL(blob);\n",
              "      a.download = filename;\n",
              "      div.appendChild(a);\n",
              "      a.click();\n",
              "      div.remove();\n",
              "    }\n",
              "  "
            ]
          },
          "metadata": {}
        },
        {
          "output_type": "display_data",
          "data": {
            "text/plain": [
              "<IPython.core.display.Javascript object>"
            ],
            "application/javascript": [
              "download(\"download_86386c07-71f5-4369-a398-8840d5e63fae\", \"RMC_PtAu_CP.csv\", 504)"
            ]
          },
          "metadata": {}
        }
      ]
    }
  ]
}