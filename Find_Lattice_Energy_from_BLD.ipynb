{
  "nbformat": 4,
  "nbformat_minor": 0,
  "metadata": {
    "colab": {
      "name": "Find_Lattice_Energy_from_BLD.ipynb",
      "provenance": [],
      "authorship_tag": "ABX9TyMaSubStz827Pz6dT6q9hgR",
      "include_colab_link": true
    },
    "kernelspec": {
      "name": "python3",
      "display_name": "Python 3"
    },
    "language_info": {
      "name": "python"
    }
  },
  "cells": [
    {
      "cell_type": "markdown",
      "metadata": {
        "id": "view-in-github",
        "colab_type": "text"
      },
      "source": [
        "<a href=\"https://colab.research.google.com/github/AndrewCrossman/Composition_Profile_Reconstructions/blob/main/Find_Lattice_Energy_from_BLD.ipynb\" target=\"_parent\"><img src=\"https://colab.research.google.com/assets/colab-badge.svg\" alt=\"Open In Colab\"/></a>"
      ]
    },
    {
      "cell_type": "code",
      "execution_count": 6,
      "metadata": {
        "colab": {
          "base_uri": "https://localhost:8080/"
        },
        "id": "VOuKSK_oqgSj",
        "outputId": "f94f4d3c-7537-4b53-ea6d-6ceca54a0940"
      },
      "outputs": [
        {
          "output_type": "stream",
          "name": "stdout",
          "text": [
            "Populating the interactive namespace from numpy and matplotlib\n"
          ]
        }
      ],
      "source": [
        "import numpy as np\n",
        "import pandas as pd\n",
        "import scipy as sp\n",
        "from google.colab import files\n",
        "import matplotlib.pylab as plt\n",
        "%pylab inline"
      ]
    },
    {
      "cell_type": "markdown",
      "source": [
        "## This section finds the energy of a nanoparticle from its BLD"
      ],
      "metadata": {
        "id": "mTsPZn5SXQQM"
      }
    },
    {
      "cell_type": "code",
      "source": [
        "file = \"https://raw.githubusercontent.com/AndrewCrossman/Composition_Profile_Reconstructions/main/Tests/MC_Sphere100_Au_onAu_r25_2000Cycles/2000_AuAu.bld\""
      ],
      "metadata": {
        "id": "b1i5ymmZqlrh"
      },
      "execution_count": 111,
      "outputs": []
    },
    {
      "cell_type": "code",
      "source": [
        "data = pd.read_csv(file,header=None,delimiter=' ')\n",
        "data"
      ],
      "metadata": {
        "colab": {
          "base_uri": "https://localhost:8080/",
          "height": 424
        },
        "id": "hzz6Jn2LqmAR",
        "outputId": "37d2b4c9-073c-47d6-fdab-c4a007f2a814"
      },
      "execution_count": 112,
      "outputs": [
        {
          "output_type": "execute_result",
          "data": {
            "text/plain": [
              "      0   1        2   3       4\n",
              "0   NaN NaN   1.0000 NaN     0.0\n",
              "1   NaN NaN   1.0175 NaN     0.0\n",
              "2   NaN NaN   1.0350 NaN     0.0\n",
              "3   NaN NaN   1.0524 NaN     0.0\n",
              "4   NaN NaN   1.0699 NaN     0.0\n",
              "..   ..  ..      ...  ..     ...\n",
              "796 NaN NaN  14.9130 NaN  5110.0\n",
              "797 NaN NaN  14.9300 NaN  5116.0\n",
              "798 NaN NaN  14.9480 NaN  4896.0\n",
              "799 NaN NaN  14.9650 NaN  4966.0\n",
              "800 NaN NaN  14.9830 NaN  5034.0\n",
              "\n",
              "[801 rows x 5 columns]"
            ],
            "text/html": [
              "\n",
              "  <div id=\"df-99be11e2-78e1-4b8c-b4a0-98899c1e1757\">\n",
              "    <div class=\"colab-df-container\">\n",
              "      <div>\n",
              "<style scoped>\n",
              "    .dataframe tbody tr th:only-of-type {\n",
              "        vertical-align: middle;\n",
              "    }\n",
              "\n",
              "    .dataframe tbody tr th {\n",
              "        vertical-align: top;\n",
              "    }\n",
              "\n",
              "    .dataframe thead th {\n",
              "        text-align: right;\n",
              "    }\n",
              "</style>\n",
              "<table border=\"1\" class=\"dataframe\">\n",
              "  <thead>\n",
              "    <tr style=\"text-align: right;\">\n",
              "      <th></th>\n",
              "      <th>0</th>\n",
              "      <th>1</th>\n",
              "      <th>2</th>\n",
              "      <th>3</th>\n",
              "      <th>4</th>\n",
              "    </tr>\n",
              "  </thead>\n",
              "  <tbody>\n",
              "    <tr>\n",
              "      <th>0</th>\n",
              "      <td>NaN</td>\n",
              "      <td>NaN</td>\n",
              "      <td>1.0000</td>\n",
              "      <td>NaN</td>\n",
              "      <td>0.0</td>\n",
              "    </tr>\n",
              "    <tr>\n",
              "      <th>1</th>\n",
              "      <td>NaN</td>\n",
              "      <td>NaN</td>\n",
              "      <td>1.0175</td>\n",
              "      <td>NaN</td>\n",
              "      <td>0.0</td>\n",
              "    </tr>\n",
              "    <tr>\n",
              "      <th>2</th>\n",
              "      <td>NaN</td>\n",
              "      <td>NaN</td>\n",
              "      <td>1.0350</td>\n",
              "      <td>NaN</td>\n",
              "      <td>0.0</td>\n",
              "    </tr>\n",
              "    <tr>\n",
              "      <th>3</th>\n",
              "      <td>NaN</td>\n",
              "      <td>NaN</td>\n",
              "      <td>1.0524</td>\n",
              "      <td>NaN</td>\n",
              "      <td>0.0</td>\n",
              "    </tr>\n",
              "    <tr>\n",
              "      <th>4</th>\n",
              "      <td>NaN</td>\n",
              "      <td>NaN</td>\n",
              "      <td>1.0699</td>\n",
              "      <td>NaN</td>\n",
              "      <td>0.0</td>\n",
              "    </tr>\n",
              "    <tr>\n",
              "      <th>...</th>\n",
              "      <td>...</td>\n",
              "      <td>...</td>\n",
              "      <td>...</td>\n",
              "      <td>...</td>\n",
              "      <td>...</td>\n",
              "    </tr>\n",
              "    <tr>\n",
              "      <th>796</th>\n",
              "      <td>NaN</td>\n",
              "      <td>NaN</td>\n",
              "      <td>14.9130</td>\n",
              "      <td>NaN</td>\n",
              "      <td>5110.0</td>\n",
              "    </tr>\n",
              "    <tr>\n",
              "      <th>797</th>\n",
              "      <td>NaN</td>\n",
              "      <td>NaN</td>\n",
              "      <td>14.9300</td>\n",
              "      <td>NaN</td>\n",
              "      <td>5116.0</td>\n",
              "    </tr>\n",
              "    <tr>\n",
              "      <th>798</th>\n",
              "      <td>NaN</td>\n",
              "      <td>NaN</td>\n",
              "      <td>14.9480</td>\n",
              "      <td>NaN</td>\n",
              "      <td>4896.0</td>\n",
              "    </tr>\n",
              "    <tr>\n",
              "      <th>799</th>\n",
              "      <td>NaN</td>\n",
              "      <td>NaN</td>\n",
              "      <td>14.9650</td>\n",
              "      <td>NaN</td>\n",
              "      <td>4966.0</td>\n",
              "    </tr>\n",
              "    <tr>\n",
              "      <th>800</th>\n",
              "      <td>NaN</td>\n",
              "      <td>NaN</td>\n",
              "      <td>14.9830</td>\n",
              "      <td>NaN</td>\n",
              "      <td>5034.0</td>\n",
              "    </tr>\n",
              "  </tbody>\n",
              "</table>\n",
              "<p>801 rows × 5 columns</p>\n",
              "</div>\n",
              "      <button class=\"colab-df-convert\" onclick=\"convertToInteractive('df-99be11e2-78e1-4b8c-b4a0-98899c1e1757')\"\n",
              "              title=\"Convert this dataframe to an interactive table.\"\n",
              "              style=\"display:none;\">\n",
              "        \n",
              "  <svg xmlns=\"http://www.w3.org/2000/svg\" height=\"24px\"viewBox=\"0 0 24 24\"\n",
              "       width=\"24px\">\n",
              "    <path d=\"M0 0h24v24H0V0z\" fill=\"none\"/>\n",
              "    <path d=\"M18.56 5.44l.94 2.06.94-2.06 2.06-.94-2.06-.94-.94-2.06-.94 2.06-2.06.94zm-11 1L8.5 8.5l.94-2.06 2.06-.94-2.06-.94L8.5 2.5l-.94 2.06-2.06.94zm10 10l.94 2.06.94-2.06 2.06-.94-2.06-.94-.94-2.06-.94 2.06-2.06.94z\"/><path d=\"M17.41 7.96l-1.37-1.37c-.4-.4-.92-.59-1.43-.59-.52 0-1.04.2-1.43.59L10.3 9.45l-7.72 7.72c-.78.78-.78 2.05 0 2.83L4 21.41c.39.39.9.59 1.41.59.51 0 1.02-.2 1.41-.59l7.78-7.78 2.81-2.81c.8-.78.8-2.07 0-2.86zM5.41 20L4 18.59l7.72-7.72 1.47 1.35L5.41 20z\"/>\n",
              "  </svg>\n",
              "      </button>\n",
              "      \n",
              "  <style>\n",
              "    .colab-df-container {\n",
              "      display:flex;\n",
              "      flex-wrap:wrap;\n",
              "      gap: 12px;\n",
              "    }\n",
              "\n",
              "    .colab-df-convert {\n",
              "      background-color: #E8F0FE;\n",
              "      border: none;\n",
              "      border-radius: 50%;\n",
              "      cursor: pointer;\n",
              "      display: none;\n",
              "      fill: #1967D2;\n",
              "      height: 32px;\n",
              "      padding: 0 0 0 0;\n",
              "      width: 32px;\n",
              "    }\n",
              "\n",
              "    .colab-df-convert:hover {\n",
              "      background-color: #E2EBFA;\n",
              "      box-shadow: 0px 1px 2px rgba(60, 64, 67, 0.3), 0px 1px 3px 1px rgba(60, 64, 67, 0.15);\n",
              "      fill: #174EA6;\n",
              "    }\n",
              "\n",
              "    [theme=dark] .colab-df-convert {\n",
              "      background-color: #3B4455;\n",
              "      fill: #D2E3FC;\n",
              "    }\n",
              "\n",
              "    [theme=dark] .colab-df-convert:hover {\n",
              "      background-color: #434B5C;\n",
              "      box-shadow: 0px 1px 3px 1px rgba(0, 0, 0, 0.15);\n",
              "      filter: drop-shadow(0px 1px 2px rgba(0, 0, 0, 0.3));\n",
              "      fill: #FFFFFF;\n",
              "    }\n",
              "  </style>\n",
              "\n",
              "      <script>\n",
              "        const buttonEl =\n",
              "          document.querySelector('#df-99be11e2-78e1-4b8c-b4a0-98899c1e1757 button.colab-df-convert');\n",
              "        buttonEl.style.display =\n",
              "          google.colab.kernel.accessAllowed ? 'block' : 'none';\n",
              "\n",
              "        async function convertToInteractive(key) {\n",
              "          const element = document.querySelector('#df-99be11e2-78e1-4b8c-b4a0-98899c1e1757');\n",
              "          const dataTable =\n",
              "            await google.colab.kernel.invokeFunction('convertToInteractive',\n",
              "                                                     [key], {});\n",
              "          if (!dataTable) return;\n",
              "\n",
              "          const docLinkHtml = 'Like what you see? Visit the ' +\n",
              "            '<a target=\"_blank\" href=https://colab.research.google.com/notebooks/data_table.ipynb>data table notebook</a>'\n",
              "            + ' to learn more about interactive tables.';\n",
              "          element.innerHTML = '';\n",
              "          dataTable['output_type'] = 'display_data';\n",
              "          await google.colab.output.renderOutput(dataTable, element);\n",
              "          const docLink = document.createElement('div');\n",
              "          docLink.innerHTML = docLinkHtml;\n",
              "          element.appendChild(docLink);\n",
              "        }\n",
              "      </script>\n",
              "    </div>\n",
              "  </div>\n",
              "  "
            ]
          },
          "metadata": {},
          "execution_count": 112
        }
      ]
    },
    {
      "cell_type": "code",
      "source": [
        "data.iloc[:,2]\n",
        "data.iloc[:,4]"
      ],
      "metadata": {
        "colab": {
          "base_uri": "https://localhost:8080/"
        },
        "id": "LI98ehf_6B61",
        "outputId": "8968d333-589f-413d-f007-1f745b12204c"
      },
      "execution_count": 113,
      "outputs": [
        {
          "output_type": "execute_result",
          "data": {
            "text/plain": [
              "0         0.0\n",
              "1         0.0\n",
              "2         0.0\n",
              "3         0.0\n",
              "4         0.0\n",
              "        ...  \n",
              "796    5110.0\n",
              "797    5116.0\n",
              "798    4896.0\n",
              "799    4966.0\n",
              "800    5034.0\n",
              "Name: 4, Length: 801, dtype: float64"
            ]
          },
          "metadata": {},
          "execution_count": 113
        }
      ]
    },
    {
      "cell_type": "code",
      "source": [
        "Energy = 0\n",
        "E = 5.29/(6.0221408*10**23)*2.611*10**22    # kcal/mole converted to eV/atom\n",
        "r0 = 2.951      # angstroms\n",
        "A = E*r0**12    # E*r0^12 in (kcal * angstrom^12) per mole\n",
        "B = 2*E*r0**6   #6987    # 2*E*r0^6 in (kcal * angstrom^6) per mole\n",
        "lp = 4.078900 # lattice parameter\n",
        "\n",
        "for i in np.arange(len(data.iloc[:,2])):\n",
        "  dist = data.iloc[:,2][i]\n",
        "  d3 = dist*dist*dist\n",
        "  d6 = d3*d3\n",
        "  d12= d6*d6\n",
        "  Energy = Energy + (A/d12 - B/d6)*data.iloc[:,4][i]\n",
        "Energy = Energy/2"
      ],
      "metadata": {
        "id": "Mmz2ozt2qmNP"
      },
      "execution_count": 114,
      "outputs": []
    },
    {
      "cell_type": "code",
      "source": [
        "# energy per atom\n",
        "# atoms per sphere size {10:249 - 20:1985 - 25:3925 - 30:6699 - 40:15711}\n",
        "Energy/3925"
      ],
      "metadata": {
        "colab": {
          "base_uri": "https://localhost:8080/"
        },
        "id": "FDf6ZIH4SNef",
        "outputId": "789c7959-55d6-41b8-da37-fc277bc3016d"
      },
      "execution_count": 115,
      "outputs": [
        {
          "output_type": "execute_result",
          "data": {
            "text/plain": [
              "-1.6667010356202983"
            ]
          },
          "metadata": {},
          "execution_count": 115
        }
      ]
    },
    {
      "cell_type": "markdown",
      "source": [
        "## Energy per Atom vs Nanosphere Size (BLD interaction distance of 13 Å)"
      ],
      "metadata": {
        "id": "TJmfQpJNW83S"
      }
    },
    {
      "cell_type": "code",
      "source": [
        "# Lennard-Jones Energy of lattices as a function of the radius of the sphere\n",
        "# with the BLD reaching out to 13 angstroms\n",
        "sizes = [10,20,30,40,50,60,70,80,90,100]\n",
        "atoms = [249,1985,6699,15711,30885,53117,84859,126341,180313,246861]\n",
        "energies = [-1.3637823440784378,-1.610121350907847,-1.6956711165798894,-1.7373922221764095,-1.7635292116815366,\n",
        "            -1.7832508724365899,-1.8109058637491857,-1.8105379755074056,-1.8196450789909768,\n",
        "            -1.8273659727222047]\n",
        "# Lennard-Jones Energy of lattices as a function of the radius of the sphere\n",
        "# with the BLD reaching out to 25 angstroms\n",
        "sizes25 = [100]\n",
        "atoms25 = [246861]\n",
        "energies25 = [-1.839502671288224]"
      ],
      "metadata": {
        "id": "057M7ptIbVVR"
      },
      "execution_count": null,
      "outputs": []
    },
    {
      "cell_type": "code",
      "source": [
        "fig, ax = plt.subplots(figsize=(9,6))\n",
        "ax.scatter(sizes,energies, color='black', label=r'$13\\AA$'+' Interaction Radius')\n",
        "ax.scatter(sizes25,energies25, color='red', label=r'$25\\AA$'+' Interaction Radius')\n",
        "ax.set_title(r'Energy Per Atom vs Particle Radius', fontsize=20, fontweight='bold')\n",
        "ax.set_xlabel(r'Particle Pre-Relaxation Radius [$\\AA$]', fontsize=20, fontweight='bold')\n",
        "ax.set_ylabel(r'Energy [eV/atom]', fontsize=20, fontweight='bold')\n",
        "ax.legend(fontsize=18)\n",
        "ax.grid()\n",
        "plt.tight_layout()\n",
        "plt.savefig('EnergyPerAtom.png')\n",
        "files.download('EnergyPerAtom.png')"
      ],
      "metadata": {
        "id": "rip4G7lJeRfa",
        "colab": {
          "base_uri": "https://localhost:8080/",
          "height": 441
        },
        "outputId": "488bbdba-cfc6-45e5-a584-6b950fae5f8e"
      },
      "execution_count": null,
      "outputs": [
        {
          "output_type": "display_data",
          "data": {
            "text/plain": [
              "<IPython.core.display.Javascript object>"
            ],
            "application/javascript": [
              "\n",
              "    async function download(id, filename, size) {\n",
              "      if (!google.colab.kernel.accessAllowed) {\n",
              "        return;\n",
              "      }\n",
              "      const div = document.createElement('div');\n",
              "      const label = document.createElement('label');\n",
              "      label.textContent = `Downloading \"${filename}\": `;\n",
              "      div.appendChild(label);\n",
              "      const progress = document.createElement('progress');\n",
              "      progress.max = size;\n",
              "      div.appendChild(progress);\n",
              "      document.body.appendChild(div);\n",
              "\n",
              "      const buffers = [];\n",
              "      let downloaded = 0;\n",
              "\n",
              "      const channel = await google.colab.kernel.comms.open(id);\n",
              "      // Send a message to notify the kernel that we're ready.\n",
              "      channel.send({})\n",
              "\n",
              "      for await (const message of channel.messages) {\n",
              "        // Send a message to notify the kernel that we're ready.\n",
              "        channel.send({})\n",
              "        if (message.buffers) {\n",
              "          for (const buffer of message.buffers) {\n",
              "            buffers.push(buffer);\n",
              "            downloaded += buffer.byteLength;\n",
              "            progress.value = downloaded;\n",
              "          }\n",
              "        }\n",
              "      }\n",
              "      const blob = new Blob(buffers, {type: 'application/binary'});\n",
              "      const a = document.createElement('a');\n",
              "      a.href = window.URL.createObjectURL(blob);\n",
              "      a.download = filename;\n",
              "      div.appendChild(a);\n",
              "      a.click();\n",
              "      div.remove();\n",
              "    }\n",
              "  "
            ]
          },
          "metadata": {}
        },
        {
          "output_type": "display_data",
          "data": {
            "text/plain": [
              "<IPython.core.display.Javascript object>"
            ],
            "application/javascript": [
              "download(\"download_58d6cc70-f00f-429e-9e95-4306314140c1\", \"EnergyPerAtom.png\", 29598)"
            ]
          },
          "metadata": {}
        },
        {
          "output_type": "display_data",
          "data": {
            "text/plain": [
              "<Figure size 648x432 with 1 Axes>"
            ],
            "image/png": "[encoded data removed]"
          },
          "metadata": {
            "needs_background": "light"
          }
        }
      ]
    },
    {
      "cell_type": "code",
      "source": [
        "atoms = [1/(x**(1/3)) for x in atoms]\n",
        "atoms25 = [1/(x**(1/3)) for x in atoms25]"
      ],
      "metadata": {
        "id": "3os_zbTZMnSQ"
      },
      "execution_count": null,
      "outputs": []
    },
    {
      "cell_type": "code",
      "source": [
        "fig, ax = plt.subplots(figsize=(9,6))\n",
        "ax.scatter(atoms,energies, color='black', label=r'$13\\AA$'+' Interaction Radius')\n",
        "ax.scatter(atoms25,energies25, color='red', label=r'$25\\AA$'+' Interaction Radius')\n",
        "ax.set_title(r'Energy Per Atom vs Particle Radius', fontsize=20, fontweight='bold')\n",
        "ax.set_xlabel(r'$1/atoms^{1/3}$', fontsize=20, fontweight='bold')\n",
        "ax.set_ylabel(r'Energy [eV/atom]', fontsize=20, fontweight='bold')\n",
        "ax.legend(fontsize=18)\n",
        "ax.grid()\n",
        "plt.tight_layout()\n",
        "plt.savefig('EnergyPerAtomv2.png')\n",
        "files.download('EnergyPerAtomv2.png')"
      ],
      "metadata": {
        "colab": {
          "base_uri": "https://localhost:8080/",
          "height": 441
        },
        "id": "7IJvJEeXMgi_",
        "outputId": "bb474886-0ff0-46c8-9e75-15226bad83bc"
      },
      "execution_count": null,
      "outputs": [
        {
          "output_type": "display_data",
          "data": {
            "text/plain": [
              "<IPython.core.display.Javascript object>"
            ],
            "application/javascript": [
              "\n",
              "    async function download(id, filename, size) {\n",
              "      if (!google.colab.kernel.accessAllowed) {\n",
              "        return;\n",
              "      }\n",
              "      const div = document.createElement('div');\n",
              "      const label = document.createElement('label');\n",
              "      label.textContent = `Downloading \"${filename}\": `;\n",
              "      div.appendChild(label);\n",
              "      const progress = document.createElement('progress');\n",
              "      progress.max = size;\n",
              "      div.appendChild(progress);\n",
              "      document.body.appendChild(div);\n",
              "\n",
              "      const buffers = [];\n",
              "      let downloaded = 0;\n",
              "\n",
              "      const channel = await google.colab.kernel.comms.open(id);\n",
              "      // Send a message to notify the kernel that we're ready.\n",
              "      channel.send({})\n",
              "\n",
              "      for await (const message of channel.messages) {\n",
              "        // Send a message to notify the kernel that we're ready.\n",
              "        channel.send({})\n",
              "        if (message.buffers) {\n",
              "          for (const buffer of message.buffers) {\n",
              "            buffers.push(buffer);\n",
              "            downloaded += buffer.byteLength;\n",
              "            progress.value = downloaded;\n",
              "          }\n",
              "        }\n",
              "      }\n",
              "      const blob = new Blob(buffers, {type: 'application/binary'});\n",
              "      const a = document.createElement('a');\n",
              "      a.href = window.URL.createObjectURL(blob);\n",
              "      a.download = filename;\n",
              "      div.appendChild(a);\n",
              "      a.click();\n",
              "      div.remove();\n",
              "    }\n",
              "  "
            ]
          },
          "metadata": {}
        },
        {
          "output_type": "display_data",
          "data": {
            "text/plain": [
              "<IPython.core.display.Javascript object>"
            ],
            "application/javascript": [
              "download(\"download_0dee9463-8c5f-4af7-a2b9-0494b6d19b5e\", \"EnergyPerAtomv2.png\", 28538)"
            ]
          },
          "metadata": {}
        },
        {
          "output_type": "display_data",
          "data": {
            "text/plain": [
              "<Figure size 648x432 with 1 Axes>"
            ],
            "image/png": "[encoded data removed]"
          },
          "metadata": {
            "needs_background": "light"
          }
        }
      ]
    },
    {
      "cell_type": "markdown",
      "source": [],
      "metadata": {
        "id": "XUxX6EBjXaCo"
      }
    },
    {
      "cell_type": "markdown",
      "source": [
        "## Energy per Atom vs BLD Interaction Distance for 40Å radius sphere"
      ],
      "metadata": {
        "id": "HY5W_a2YXbRk"
      }
    },
    {
      "cell_type": "code",
      "source": [
        "interaction_distance = [5,10,15,20,25]\n",
        "energiesr40 = [-1.4459350055851707, -1.7208837425672021, -1.7409963963173123, -1.7448910563251787, -1.7454857044705943]\n",
        "energiesr30 = [-1.4163016043906735, -1.6805702445350428, -1.698971110615917, -1.7021117499758796,-1.7027095039725435]"
      ],
      "metadata": {
        "id": "Ar3IswhfXlm0"
      },
      "execution_count": null,
      "outputs": []
    },
    {
      "cell_type": "code",
      "source": [
        "fig, ax = plt.subplots(figsize=(9,6))\n",
        "ax.scatter(interaction_distance,energiesr30, color='red', label=r'$r30\\AA$')\n",
        "ax.scatter(interaction_distance,energiesr40, color='black', label=r'$r40\\AA$')\n",
        "ax.set_title(r'Energy Per Atom vs BLD Interaction Radius (1000MC)', fontsize=20, fontweight='bold')\n",
        "ax.set_xlabel(\"BLD Interaction Radius\"+r'$[\\AA]$', fontsize=20, fontweight='bold')\n",
        "ax.set_ylabel(r'Energy [eV/atom]', fontsize=20, fontweight='bold')\n",
        "ax.legend(fontsize=18)\n",
        "ax.grid()\n",
        "plt.tight_layout()\n",
        "plt.savefig('EnergyPerAtomVBLD.png')\n",
        "files.download('EnergyPerAtomVBLD.png')"
      ],
      "metadata": {
        "colab": {
          "base_uri": "https://localhost:8080/",
          "height": 441
        },
        "id": "-Y-_2C5jc5WX",
        "outputId": "41eccb78-b605-4566-eda4-51bb92d8967f"
      },
      "execution_count": null,
      "outputs": [
        {
          "output_type": "display_data",
          "data": {
            "text/plain": [
              "<IPython.core.display.Javascript object>"
            ],
            "application/javascript": [
              "\n",
              "    async function download(id, filename, size) {\n",
              "      if (!google.colab.kernel.accessAllowed) {\n",
              "        return;\n",
              "      }\n",
              "      const div = document.createElement('div');\n",
              "      const label = document.createElement('label');\n",
              "      label.textContent = `Downloading \"${filename}\": `;\n",
              "      div.appendChild(label);\n",
              "      const progress = document.createElement('progress');\n",
              "      progress.max = size;\n",
              "      div.appendChild(progress);\n",
              "      document.body.appendChild(div);\n",
              "\n",
              "      const buffers = [];\n",
              "      let downloaded = 0;\n",
              "\n",
              "      const channel = await google.colab.kernel.comms.open(id);\n",
              "      // Send a message to notify the kernel that we're ready.\n",
              "      channel.send({})\n",
              "\n",
              "      for await (const message of channel.messages) {\n",
              "        // Send a message to notify the kernel that we're ready.\n",
              "        channel.send({})\n",
              "        if (message.buffers) {\n",
              "          for (const buffer of message.buffers) {\n",
              "            buffers.push(buffer);\n",
              "            downloaded += buffer.byteLength;\n",
              "            progress.value = downloaded;\n",
              "          }\n",
              "        }\n",
              "      }\n",
              "      const blob = new Blob(buffers, {type: 'application/binary'});\n",
              "      const a = document.createElement('a');\n",
              "      a.href = window.URL.createObjectURL(blob);\n",
              "      a.download = filename;\n",
              "      div.appendChild(a);\n",
              "      a.click();\n",
              "      div.remove();\n",
              "    }\n",
              "  "
            ]
          },
          "metadata": {}
        },
        {
          "output_type": "display_data",
          "data": {
            "text/plain": [
              "<IPython.core.display.Javascript object>"
            ],
            "application/javascript": [
              "download(\"download_806514eb-2ada-47c7-ad61-7579243c35c2\", \"EnergyPerAtomVBLD.png\", 29925)"
            ]
          },
          "metadata": {}
        },
        {
          "output_type": "display_data",
          "data": {
            "text/plain": [
              "<Figure size 648x432 with 1 Axes>"
            ],
            "image/png": "[encoded data removed]"
          },
          "metadata": {
            "needs_background": "light"
          }
        }
      ]
    },
    {
      "cell_type": "markdown",
      "source": [
        "## Energy per Atom vs MMC Cycles for 25Å Au Sphere"
      ],
      "metadata": {
        "id": "ZC9O_a_wgFlT"
      }
    },
    {
      "cell_type": "code",
      "source": [
        "cycle_number = [0,100,200,300,400,500,600,700,\n",
        "                800,900,1000,1100,1200,1300,1400,1500,\n",
        "                1600,1700,1800,1900,2000]\n",
        "energyperatom = [-1.7410806246238386,-1.670906815597094,-1.6657616190680984,-1.6666673722170697,-1.6649824207812463,-1.6661498479038384,-1.665365806782186,-1.6670481360856335,\n",
        "                 -1.6650299773396613,-1.6640434461208424,-1.6666625417036565,-1.6659057434924511,-1.663719748770761,-1.6662222143657845,-1.6664315919205304,-1.6664336542050349,\n",
        "                 -1.6654764785768412,-1.6663539755195573,-1.6646965922966304,-1.667008832001645,-1.6667010356202983]"
      ],
      "metadata": {
        "id": "OdCEGU0BgVMV"
      },
      "execution_count": 120,
      "outputs": []
    },
    {
      "cell_type": "code",
      "source": [
        "fig, ax = plt.subplots(figsize=(9,6))\n",
        "ax.scatter(cycle_number,energyperatom, color='red', label=r'$r30\\AA$')\n",
        "ax.scatter(cycle_number,energyperatom, color='black', label=r'$r40\\AA$')\n",
        "ax.set_title(r'Energy Per Atom vs BLD Interaction Radius (2000MC)', fontsize=20, fontweight='bold')\n",
        "ax.set_xlabel(\"MMC Cycles\", fontsize=20, fontweight='bold')\n",
        "ax.set_ylabel(r'Energy [eV/atom]', fontsize=20, fontweight='bold')\n",
        "#ax.legend(fontsize=18)\n",
        "ax.grid()\n",
        "plt.tight_layout()\n",
        "plt.savefig('EnergyPerAtomVBLD.png')\n",
        "files.download('EnergyPerAtomVBLD.png')\n",
        "\n"
      ],
      "metadata": {
        "id": "Ezz40e45gchc",
        "outputId": "0a5ae746-afbf-4b66-ff68-68e8dabf00d3",
        "colab": {
          "base_uri": "https://localhost:8080/",
          "height": 441
        }
      },
      "execution_count": 122,
      "outputs": [
        {
          "output_type": "display_data",
          "data": {
            "text/plain": [
              "<IPython.core.display.Javascript object>"
            ],
            "application/javascript": [
              "\n",
              "    async function download(id, filename, size) {\n",
              "      if (!google.colab.kernel.accessAllowed) {\n",
              "        return;\n",
              "      }\n",
              "      const div = document.createElement('div');\n",
              "      const label = document.createElement('label');\n",
              "      label.textContent = `Downloading \"${filename}\": `;\n",
              "      div.appendChild(label);\n",
              "      const progress = document.createElement('progress');\n",
              "      progress.max = size;\n",
              "      div.appendChild(progress);\n",
              "      document.body.appendChild(div);\n",
              "\n",
              "      const buffers = [];\n",
              "      let downloaded = 0;\n",
              "\n",
              "      const channel = await google.colab.kernel.comms.open(id);\n",
              "      // Send a message to notify the kernel that we're ready.\n",
              "      channel.send({})\n",
              "\n",
              "      for await (const message of channel.messages) {\n",
              "        // Send a message to notify the kernel that we're ready.\n",
              "        channel.send({})\n",
              "        if (message.buffers) {\n",
              "          for (const buffer of message.buffers) {\n",
              "            buffers.push(buffer);\n",
              "            downloaded += buffer.byteLength;\n",
              "            progress.value = downloaded;\n",
              "          }\n",
              "        }\n",
              "      }\n",
              "      const blob = new Blob(buffers, {type: 'application/binary'});\n",
              "      const a = document.createElement('a');\n",
              "      a.href = window.URL.createObjectURL(blob);\n",
              "      a.download = filename;\n",
              "      div.appendChild(a);\n",
              "      a.click();\n",
              "      div.remove();\n",
              "    }\n",
              "  "
            ]
          },
          "metadata": {}
        },
        {
          "output_type": "display_data",
          "data": {
            "text/plain": [
              "<IPython.core.display.Javascript object>"
            ],
            "application/javascript": [
              "download(\"download_da446a8e-3082-4151-ba5b-3d7ca959358f\", \"EnergyPerAtomVBLD.png\", 26001)"
            ]
          },
          "metadata": {}
        },
        {
          "output_type": "display_data",
          "data": {
            "text/plain": [
              "<Figure size 648x432 with 1 Axes>"
            ],
            "image/png": "[encoded data removed]"
          },
          "metadata": {
            "needs_background": "light"
          }
        }
      ]
    }
  ]
}