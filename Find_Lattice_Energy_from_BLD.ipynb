{
  "nbformat": 4,
  "nbformat_minor": 0,
  "metadata": {
    "colab": {
      "name": "Find_Lattice_Energy_from_BLD.ipynb",
      "provenance": [],
      "toc_visible": true,
      "authorship_tag": "ABX9TyO5yVguFBxj1Syfp2f/uQ8M",
      "include_colab_link": true
    },
    "kernelspec": {
      "name": "python3",
      "display_name": "Python 3"
    },
    "language_info": {
      "name": "python"
    }
  },
  "cells": [
    {
      "cell_type": "markdown",
      "metadata": {
        "id": "view-in-github",
        "colab_type": "text"
      },
      "source": [
        "<a href=\"https://colab.research.google.com/github/AndrewCrossman/Graduate_Research/blob/main/Find_Lattice_Energy_from_BLD.ipynb\" target=\"_parent\"><img src=\"https://colab.research.google.com/assets/colab-badge.svg\" alt=\"Open In Colab\"/></a>"
      ]
    },
    {
      "cell_type": "code",
      "execution_count": 2,
      "metadata": {
        "colab": {
          "base_uri": "https://localhost:8080/"
        },
        "id": "VOuKSK_oqgSj",
        "outputId": "7709ca7a-1090-4190-f19b-c428fca853cf"
      },
      "outputs": [
        {
          "output_type": "stream",
          "name": "stdout",
          "text": [
            "Populating the interactive namespace from numpy and matplotlib\n"
          ]
        },
        {
          "output_type": "stream",
          "name": "stderr",
          "text": [
            "/usr/local/lib/python3.10/dist-packages/IPython/core/magics/pylab.py:159: UserWarning: pylab import has clobbered these variables: ['plt']\n",
            "`%matplotlib` prevents importing * from pylab and numpy\n",
            "  warn(\"pylab import has clobbered these variables: %s\"  % clobbered +\n"
          ]
        }
      ],
      "source": [
        "import csv\n",
        "import math\n",
        "import numpy as np\n",
        "from astropy.coordinates import cartesian_to_spherical\n",
        "import pandas as pd\n",
        "import scipy as sp\n",
        "from sklearn.neighbors import KDTree\n",
        "from scipy import optimize\n",
        "from google.colab import files\n",
        "import requests\n",
        "from bs4 import BeautifulSoup\n",
        "import json\n",
        "from collections import Counter\n",
        "import matplotlib.pylab as plt\n",
        "%pylab inline"
      ]
    },
    {
      "cell_type": "markdown",
      "source": [
        "## Find all structure files and/or BLD files for MMC or RMC Process"
      ],
      "metadata": {
        "id": "LgU1iSVK_Fpc"
      }
    },
    {
      "cell_type": "markdown",
      "source": [
        "### Automatically find all of the Stucture Files or BLDs from Github directory - currently not working :("
      ],
      "metadata": {
        "id": "_gSjQk4x_MF-"
      }
    },
    {
      "cell_type": "code",
      "source": [
        "# the URL of the target repo to scrape\n",
        "url = 'https://github.com/AndrewCrossman/Graduate_Research/tree/main/Tests/MC_Coreshell5050_AuPd_onAu_r50'\n",
        "page = requests.get(url)\n",
        "soup = BeautifulSoup(page.text, 'html.parser')\n"
      ],
      "metadata": {
        "colab": {
          "base_uri": "https://localhost:8080/"
        },
        "id": "2lr7AGBtzoBF",
        "outputId": "18fd9d1c-f936-41ee-ba95-a03ece94ca37"
      },
      "execution_count": 63,
      "outputs": [
        {
          "output_type": "execute_result",
          "data": {
            "text/plain": [
              "[]"
            ]
          },
          "metadata": {},
          "execution_count": 63
        }
      ]
    },
    {
      "cell_type": "markdown",
      "source": [
        "### Manually record all of the Structure Files or BLDs"
      ],
      "metadata": {
        "id": "e6r75Ga2_VM7"
      }
    },
    {
      "cell_type": "code",
      "source": [
        "Stru_filenames = [\n",
        "    \"https://raw.githubusercontent.com/AndrewCrossman/Graduate_Research/main/Control/Control/STRs/Coreshell5050_AuPd_onAu_r50_voidless.stru\",\n",
        "    \"https://raw.githubusercontent.com/AndrewCrossman/Graduate_Research/main/Tests/MC_Coreshell5050_AuPd_onAu_r50/500_voidless.stru\",\n",
        "    \"https://raw.githubusercontent.com/AndrewCrossman/Graduate_Research/main/Tests/MC_Coreshell5050_AuPd_onAu_r50/1000_voidless.stru\",\n",
        "    \"https://raw.githubusercontent.com/AndrewCrossman/Graduate_Research/main/Tests/MC_Coreshell5050_AuPd_onAu_r50/1500_voidless.stru\",\n",
        "    \"https://raw.githubusercontent.com/AndrewCrossman/Graduate_Research/main/Tests/MC_Coreshell5050_AuPd_onAu_r50/2000_voidless.stru\",\n",
        "    \"https://raw.githubusercontent.com/AndrewCrossman/Graduate_Research/main/Tests/MC_Coreshell5050_AuPd_onAu_r50/2500_voidless.stru\",\n",
        "    \"https://raw.githubusercontent.com/AndrewCrossman/Graduate_Research/main/Tests/MC_Coreshell5050_AuPd_onAu_r50/3000_voidless.stru\",\n",
        "    \"https://raw.githubusercontent.com/AndrewCrossman/Graduate_Research/main/Tests/MC_Coreshell5050_AuPd_onAu_r50/3500_voidless.stru\",\n",
        "    \"https://raw.githubusercontent.com/AndrewCrossman/Graduate_Research/main/Tests/MC_Coreshell5050_AuPd_onAu_r50/4000_voidless.stru\",\n",
        "    \"https://raw.githubusercontent.com/AndrewCrossman/Graduate_Research/main/Tests/MC_Coreshell5050_AuPd_onAu_r50/4500_voidless.stru\",\n",
        "    \"https://raw.githubusercontent.com/AndrewCrossman/Graduate_Research/main/Tests/MC_Coreshell5050_AuPd_onAu_r50/5000_voidless.stru\",\n",
        "    \"https://raw.githubusercontent.com/AndrewCrossman/Graduate_Research/main/Tests/MC_Coreshell5050_AuPd_onAu_r50/5500_voidless.stru\",\n",
        "    \"https://raw.githubusercontent.com/AndrewCrossman/Graduate_Research/main/Tests/MC_Coreshell5050_AuPd_onAu_r50/6000_voidless.stru\",\n",
        "    \"https://raw.githubusercontent.com/AndrewCrossman/Graduate_Research/main/Tests/MC_Coreshell5050_AuPd_onAu_r50/6500_voidless.stru\",\n",
        "    \"https://raw.githubusercontent.com/AndrewCrossman/Graduate_Research/main/Tests/MC_Coreshell5050_AuPd_onAu_r50/7000_voidless.stru\",\n",
        "    \"https://raw.githubusercontent.com/AndrewCrossman/Graduate_Research/main/Tests/MC_Coreshell5050_AuPd_onAu_r50/7500_voidless.stru\",\n",
        "    \"https://raw.githubusercontent.com/AndrewCrossman/Graduate_Research/main/Tests/MC_Coreshell5050_AuPd_onAu_r50/8000_voidless.stru\",\n",
        "    \"https://raw.githubusercontent.com/AndrewCrossman/Graduate_Research/main/Tests/MC_Coreshell5050_AuPd_onAu_r50/8500_voidless.stru\",\n",
        "    \"https://raw.githubusercontent.com/AndrewCrossman/Graduate_Research/main/Tests/MC_Coreshell5050_AuPd_onAu_r50/9000_voidless.stru\",\n",
        "    \"https://raw.githubusercontent.com/AndrewCrossman/Graduate_Research/main/Tests/MC_Coreshell5050_AuPd_onAu_r50/9500_voidless.stru\",\n",
        "    \"https://raw.githubusercontent.com/AndrewCrossman/Graduate_Research/main/Tests/MC_Coreshell5050_AuPd_onAu_r50/10000_voidless.stru\"\n",
        "]\n",
        "\n",
        "bld_filenames = [\n",
        "    [\"https://raw.githubusercontent.com/AndrewCrossman/Graduate_Research/main/Control/Control/BLDs/Coreshell5050_AuPd_onAu_r50_AuAu.bld\",\n",
        "    \"https://raw.githubusercontent.com/AndrewCrossman/Graduate_Research/main/Control/Control/BLDs/Coreshell5050_AuPd_onAu_r50_AuPd.bld\",\n",
        "    \"https://raw.githubusercontent.com/AndrewCrossman/Graduate_Research/main/Control/Control/BLDs/Coreshell5050_AuPd_onAu_r50_PdPd.bld\"],\n",
        "\n",
        "    [\"https://raw.githubusercontent.com/AndrewCrossman/Graduate_Research/main/Tests/MC_Coreshell5050_AuPd_onAu_r50/500_AuAu.bld\",\n",
        "    \"https://raw.githubusercontent.com/AndrewCrossman/Graduate_Research/main/Tests/MC_Coreshell5050_AuPd_onAu_r50/500_AuPd.bld\",\n",
        "    \"https://raw.githubusercontent.com/AndrewCrossman/Graduate_Research/main/Tests/MC_Coreshell5050_AuPd_onAu_r50/500_PdPd.bld\"],\n",
        "\n",
        "    [\"https://raw.githubusercontent.com/AndrewCrossman/Graduate_Research/main/Tests/MC_Coreshell5050_AuPd_onAu_r50/1000_AuAu.bld\",\n",
        "    \"https://raw.githubusercontent.com/AndrewCrossman/Graduate_Research/main/Tests/MC_Coreshell5050_AuPd_onAu_r50/1000_AuPd.bld\",\n",
        "    \"https://raw.githubusercontent.com/AndrewCrossman/Graduate_Research/main/Tests/MC_Coreshell5050_AuPd_onAu_r50/1000_PdPd.bld\"],\n",
        "\n",
        "    [\"https://raw.githubusercontent.com/AndrewCrossman/Graduate_Research/main/Tests/MC_Coreshell5050_AuPd_onAu_r50/1500_AuAu.bld\",\n",
        "    \"https://raw.githubusercontent.com/AndrewCrossman/Graduate_Research/main/Tests/MC_Coreshell5050_AuPd_onAu_r50/1500_AuPd.bld\",\n",
        "    \"https://raw.githubusercontent.com/AndrewCrossman/Graduate_Research/main/Tests/MC_Coreshell5050_AuPd_onAu_r50/1500_PdPd.bld\"],\n",
        "\n",
        "    [\"https://raw.githubusercontent.com/AndrewCrossman/Graduate_Research/main/Tests/MC_Coreshell5050_AuPd_onAu_r50/2000_AuAu.bld\",\n",
        "    \"https://raw.githubusercontent.com/AndrewCrossman/Graduate_Research/main/Tests/MC_Coreshell5050_AuPd_onAu_r50/2000_AuPd.bld\",\n",
        "    \"https://raw.githubusercontent.com/AndrewCrossman/Graduate_Research/main/Tests/MC_Coreshell5050_AuPd_onAu_r50/2000_PdPd.bld\"],\n",
        "\n",
        "    [\"https://raw.githubusercontent.com/AndrewCrossman/Graduate_Research/main/Tests/MC_Coreshell5050_AuPd_onAu_r50/2500_AuAu.bld\",\n",
        "    \"https://raw.githubusercontent.com/AndrewCrossman/Graduate_Research/main/Tests/MC_Coreshell5050_AuPd_onAu_r50/2500_AuPd.bld\",\n",
        "    \"https://raw.githubusercontent.com/AndrewCrossman/Graduate_Research/main/Tests/MC_Coreshell5050_AuPd_onAu_r50/2500_PdPd.bld\"],\n",
        "\n",
        "    [\"https://raw.githubusercontent.com/AndrewCrossman/Graduate_Research/main/Tests/MC_Coreshell5050_AuPd_onAu_r50/3000_AuAu.bld\",\n",
        "    \"https://raw.githubusercontent.com/AndrewCrossman/Graduate_Research/main/Tests/MC_Coreshell5050_AuPd_onAu_r50/3000_AuPd.bld\",\n",
        "    \"https://raw.githubusercontent.com/AndrewCrossman/Graduate_Research/main/Tests/MC_Coreshell5050_AuPd_onAu_r50/3000_PdPd.bld\"],\n",
        "\n",
        "    [\"https://raw.githubusercontent.com/AndrewCrossman/Graduate_Research/main/Tests/MC_Coreshell5050_AuPd_onAu_r50/3500_AuAu.bld\",\n",
        "    \"https://raw.githubusercontent.com/AndrewCrossman/Graduate_Research/main/Tests/MC_Coreshell5050_AuPd_onAu_r50/3500_AuPd.bld\",\n",
        "    \"https://raw.githubusercontent.com/AndrewCrossman/Graduate_Research/main/Tests/MC_Coreshell5050_AuPd_onAu_r50/3500_PdPd.bld\"],\n",
        "\n",
        "    [\"https://raw.githubusercontent.com/AndrewCrossman/Graduate_Research/main/Tests/MC_Coreshell5050_AuPd_onAu_r50/4000_AuAu.bld\",\n",
        "    \"https://raw.githubusercontent.com/AndrewCrossman/Graduate_Research/main/Tests/MC_Coreshell5050_AuPd_onAu_r50/4000_AuPd.bld\",\n",
        "    \"https://raw.githubusercontent.com/AndrewCrossman/Graduate_Research/main/Tests/MC_Coreshell5050_AuPd_onAu_r50/4000_PdPd.bld\"],\n",
        "\n",
        "    [\"https://raw.githubusercontent.com/AndrewCrossman/Graduate_Research/main/Tests/MC_Coreshell5050_AuPd_onAu_r50/4500_AuAu.bld\",\n",
        "    \"https://raw.githubusercontent.com/AndrewCrossman/Graduate_Research/main/Tests/MC_Coreshell5050_AuPd_onAu_r50/4500_AuPd.bld\",\n",
        "    \"https://raw.githubusercontent.com/AndrewCrossman/Graduate_Research/main/Tests/MC_Coreshell5050_AuPd_onAu_r50/4500_PdPd.bld\"],\n",
        "\n",
        "    [\"https://raw.githubusercontent.com/AndrewCrossman/Graduate_Research/main/Tests/MC_Coreshell5050_AuPd_onAu_r50/5000_AuAu.bld\",\n",
        "    \"https://raw.githubusercontent.com/AndrewCrossman/Graduate_Research/main/Tests/MC_Coreshell5050_AuPd_onAu_r50/5000_AuPd.bld\",\n",
        "    \"https://raw.githubusercontent.com/AndrewCrossman/Graduate_Research/main/Tests/MC_Coreshell5050_AuPd_onAu_r50/5000_PdPd.bld\"],\n",
        "\n",
        "    [\"https://raw.githubusercontent.com/AndrewCrossman/Graduate_Research/main/Tests/MC_Coreshell5050_AuPd_onAu_r50/5500_AuAu.bld\",\n",
        "    \"https://raw.githubusercontent.com/AndrewCrossman/Graduate_Research/main/Tests/MC_Coreshell5050_AuPd_onAu_r50/5500_AuPd.bld\",\n",
        "    \"https://raw.githubusercontent.com/AndrewCrossman/Graduate_Research/main/Tests/MC_Coreshell5050_AuPd_onAu_r50/5500_PdPd.bld\"],\n",
        "\n",
        "    [\"https://raw.githubusercontent.com/AndrewCrossman/Graduate_Research/main/Tests/MC_Coreshell5050_AuPd_onAu_r50/6000_AuAu.bld\",\n",
        "    \"https://raw.githubusercontent.com/AndrewCrossman/Graduate_Research/main/Tests/MC_Coreshell5050_AuPd_onAu_r50/6000_AuPd.bld\",\n",
        "    \"https://raw.githubusercontent.com/AndrewCrossman/Graduate_Research/main/Tests/MC_Coreshell5050_AuPd_onAu_r50/6000_PdPd.bld\"],\n",
        "\n",
        "    [\"https://raw.githubusercontent.com/AndrewCrossman/Graduate_Research/main/Tests/MC_Coreshell5050_AuPd_onAu_r50/6500_AuAu.bld\",\n",
        "    \"https://raw.githubusercontent.com/AndrewCrossman/Graduate_Research/main/Tests/MC_Coreshell5050_AuPd_onAu_r50/6500_AuPd.bld\",\n",
        "    \"https://raw.githubusercontent.com/AndrewCrossman/Graduate_Research/main/Tests/MC_Coreshell5050_AuPd_onAu_r50/6500_PdPd.bld\"],\n",
        "\n",
        "    [\"https://raw.githubusercontent.com/AndrewCrossman/Graduate_Research/main/Tests/MC_Coreshell5050_AuPd_onAu_r50/7000_AuAu.bld\",\n",
        "    \"https://raw.githubusercontent.com/AndrewCrossman/Graduate_Research/main/Tests/MC_Coreshell5050_AuPd_onAu_r50/7000_AuPd.bld\",\n",
        "    \"https://raw.githubusercontent.com/AndrewCrossman/Graduate_Research/main/Tests/MC_Coreshell5050_AuPd_onAu_r50/7000_PdPd.bld\"],\n",
        "\n",
        "    [\"https://raw.githubusercontent.com/AndrewCrossman/Graduate_Research/main/Tests/MC_Coreshell5050_AuPd_onAu_r50/7500_AuAu.bld\",\n",
        "    \"https://raw.githubusercontent.com/AndrewCrossman/Graduate_Research/main/Tests/MC_Coreshell5050_AuPd_onAu_r50/7500_AuPd.bld\",\n",
        "    \"https://raw.githubusercontent.com/AndrewCrossman/Graduate_Research/main/Tests/MC_Coreshell5050_AuPd_onAu_r50/7500_PdPd.bld\"],\n",
        "\n",
        "    [\"https://raw.githubusercontent.com/AndrewCrossman/Graduate_Research/main/Tests/MC_Coreshell5050_AuPd_onAu_r50/8000_AuAu.bld\",\n",
        "    \"https://raw.githubusercontent.com/AndrewCrossman/Graduate_Research/main/Tests/MC_Coreshell5050_AuPd_onAu_r50/8000_AuPd.bld\",\n",
        "    \"https://raw.githubusercontent.com/AndrewCrossman/Graduate_Research/main/Tests/MC_Coreshell5050_AuPd_onAu_r50/8000_PdPd.bld\"],\n",
        "\n",
        "    [\"https://raw.githubusercontent.com/AndrewCrossman/Graduate_Research/main/Tests/MC_Coreshell5050_AuPd_onAu_r50/8500_AuAu.bld\",\n",
        "    \"https://raw.githubusercontent.com/AndrewCrossman/Graduate_Research/main/Tests/MC_Coreshell5050_AuPd_onAu_r50/8500_AuPd.bld\",\n",
        "    \"https://raw.githubusercontent.com/AndrewCrossman/Graduate_Research/main/Tests/MC_Coreshell5050_AuPd_onAu_r50/8500_PdPd.bld\"],\n",
        "\n",
        "    [\"https://raw.githubusercontent.com/AndrewCrossman/Graduate_Research/main/Tests/MC_Coreshell5050_AuPd_onAu_r50/9000_AuAu.bld\",\n",
        "    \"https://raw.githubusercontent.com/AndrewCrossman/Graduate_Research/main/Tests/MC_Coreshell5050_AuPd_onAu_r50/9000_AuPd.bld\",\n",
        "    \"https://raw.githubusercontent.com/AndrewCrossman/Graduate_Research/main/Tests/MC_Coreshell5050_AuPd_onAu_r50/9000_PdPd.bld\"],\n",
        "\n",
        "    [\"https://raw.githubusercontent.com/AndrewCrossman/Graduate_Research/main/Tests/MC_Coreshell5050_AuPd_onAu_r50/9500_AuAu.bld\",\n",
        "    \"https://raw.githubusercontent.com/AndrewCrossman/Graduate_Research/main/Tests/MC_Coreshell5050_AuPd_onAu_r50/9500_AuPd.bld\",\n",
        "    \"https://raw.githubusercontent.com/AndrewCrossman/Graduate_Research/main/Tests/MC_Coreshell5050_AuPd_onAu_r50/9500_PdPd.bld\"],\n",
        "\n",
        "    [\"https://raw.githubusercontent.com/AndrewCrossman/Graduate_Research/main/Tests/MC_Coreshell5050_AuPd_onAu_r50/10000_AuAu.bld\",\n",
        "    \"https://raw.githubusercontent.com/AndrewCrossman/Graduate_Research/main/Tests/MC_Coreshell5050_AuPd_onAu_r50/10000_AuPd.bld\",\n",
        "    \"https://raw.githubusercontent.com/AndrewCrossman/Graduate_Research/main/Tests/MC_Coreshell5050_AuPd_onAu_r50/10000_PdPd.bld\"]\n",
        "]\n"
      ],
      "metadata": {
        "id": "4t5iSFAV_iy7"
      },
      "execution_count": 80,
      "outputs": []
    },
    {
      "cell_type": "markdown",
      "source": [
        "## Solve for Lattice Energy Using BLDs"
      ],
      "metadata": {
        "id": "Q2K-eT6iCXYO"
      }
    },
    {
      "cell_type": "markdown",
      "source": [
        "### Set Parameters for LJ Potential"
      ],
      "metadata": {
        "id": "vQJc-FJmG49d"
      }
    },
    {
      "cell_type": "code",
      "source": [
        "################################################################################\n",
        "# Manually Set Vaiables\n",
        "################################################################################\n",
        "N = 30885      # number of atoms in structure\n",
        "KcalPerMole_to_eVPerAtom = (2.611*10**22)/(6.0221408*10**23)  # kcal/mole converted to eV/atom\n",
        "E_AuAu = 5.29 * KcalPerMole_to_eVPerAtom  # eV\n",
        "E_AuPd = 5.72 * KcalPerMole_to_eVPerAtom  # eV\n",
        "E_PdPd = 6.15 * KcalPerMole_to_eVPerAtom  # eV\n",
        "r0_AuAu = 2.951   # angstroms\n",
        "r0_AuPd = 2.885   # angstroms\n",
        "r0_PdPd = 2.819   # angstroms\n",
        "################################################################################\n",
        "# Varaibles Assigned from Manually Set ones to make computation faster\n",
        "################################################################################\n",
        "A_AuAu = E_AuAu*(r0_AuAu**12)    # E*r0^12 in (kcal * angstrom^12) per mole\n",
        "B_AuAu = 2*E_AuAu*(r0_AuAu**6)   # 2*E*r0^6 in (kcal * angstrom^6) per mole\n",
        "\n",
        "A_AuPd = E_AuPd*(r0_AuPd**12)    # E*r0^12 in (kcal * angstrom^12) per mole\n",
        "B_AuPd = 2*E_AuPd*(r0_AuPd**6)   # 2*E*r0^6 in (kcal * angstrom^6) per mole\n",
        "\n",
        "A_PdPd = E_PdPd*(r0_PdPd**12)    # E*r0^12 in (kcal * angstrom^12) per mole\n",
        "B_PdPd = 2*E_PdPd*(r0_PdPd**6)   # 2*E*r0^6 in (kcal * angstrom^6) per mole"
      ],
      "metadata": {
        "id": "T8WlTlrWGeOu"
      },
      "execution_count": 84,
      "outputs": []
    },
    {
      "cell_type": "code",
      "source": [
        "total_energy_per_cycle = []\n",
        "for files in bld_filenames:\n",
        "  data1 = pd.read_csv(files[0],header=None,delimiter=' ')[[2,4]].rename(columns={2: 'r', 4: 'pairs'})\n",
        "  data2 = pd.read_csv(files[1],header=None,delimiter=' ')[[2,4]].rename(columns={2: 'r', 4: 'pairs'})\n",
        "  data3 = pd.read_csv(files[2],header=None,delimiter=' ')[[2,4]].rename(columns={2: 'r', 4: 'pairs'})\n",
        "\n",
        "  data1['d6'] = data1['r']*data1['r']*data1['r']*data1['r']*data1['r']*data1['r']\n",
        "  data1['d12'] = data1['d6']*data1['d6']\n",
        "  data1['Energy'] = (A_AuAu/data1['d12'] - B_AuAu/data1['d6']) * data1['pairs']/2   #Divide by 2 to account for double counting of pairs\n",
        "\n",
        "  data2['d6'] = data2['r']*data2['r']*data2['r']*data2['r']*data2['r']*data2['r']\n",
        "  data2['d12'] = data2['d6']*data2['d6']\n",
        "  data2['Energy'] = (A_AuPd/data2['d12'] - B_AuPd/data2['d6']) * data2['pairs']/2   #Divide by 2 to account for double counting of pairs\n",
        "\n",
        "  data3['d6'] = data3['r']*data3['r']*data3['r']*data3['r']*data3['r']*data3['r']\n",
        "  data3['d12'] = data3['d6']*data3['d6']\n",
        "  data3['Energy'] = (A_PdPd/data3['d12'] - B_PdPd/data3['d6']) * data3['pairs']/2   #Divide by 2 to account for double counting of pairs\n",
        "\n",
        "  total_energy_per_cycle.append(data1['Energy'].sum() +data2['Energy'].sum() + data3['Energy'].sum())\n",
        "\n",
        "total_energy_per_cycle =  [i/N for i in total_energy_per_cycle]"
      ],
      "metadata": {
        "id": "XOaSFTgtClFw"
      },
      "execution_count": 83,
      "outputs": []
    },
    {
      "cell_type": "code",
      "source": [
        "total_energy = [i/N for i in total_energy]"
      ],
      "metadata": {
        "id": "H6bw1YD-Mrj4"
      },
      "execution_count": 86,
      "outputs": []
    },
    {
      "cell_type": "code",
      "source": [
        "plt.plot(total_energy)"
      ],
      "metadata": {
        "id": "QVFQKrB_M5FT",
        "outputId": "69776ded-2f90-4879-d82a-a90bfc05685f",
        "colab": {
          "base_uri": "https://localhost:8080/",
          "height": 447
        }
      },
      "execution_count": 87,
      "outputs": [
        {
          "output_type": "execute_result",
          "data": {
            "text/plain": [
              "[<matplotlib.lines.Line2D at 0x7ea82b5b32b0>]"
            ]
          },
          "metadata": {},
          "execution_count": 87
        },
        {
          "output_type": "display_data",
          "data": {
            "text/plain": [
              "<Figure size 640x480 with 1 Axes>"
            ],
            "image/png": "[encoded data removed]"
          },
          "metadata": {}
        }
      ]
    },
    {
      "cell_type": "code",
      "source": [],
      "metadata": {
        "id": "psBDX96LM1Z-"
      },
      "execution_count": null,
      "outputs": []
    },
    {
      "cell_type": "markdown",
      "source": [
        "## This section finds the energy of a nanoparticle from its BLD"
      ],
      "metadata": {
        "id": "mTsPZn5SXQQM"
      }
    },
    {
      "cell_type": "code",
      "source": [
        "# energy per atom\n",
        "# atoms per sphere size {10:249 - 20:1985 - 25:3925 - 30:6699 - 40:15711}\n",
        "Energy/3925"
      ],
      "metadata": {
        "colab": {
          "base_uri": "https://localhost:8080/"
        },
        "id": "FDf6ZIH4SNef",
        "outputId": "789c7959-55d6-41b8-da37-fc277bc3016d"
      },
      "execution_count": null,
      "outputs": [
        {
          "output_type": "execute_result",
          "data": {
            "text/plain": [
              "-1.6667010356202983"
            ]
          },
          "metadata": {},
          "execution_count": 115
        }
      ]
    },
    {
      "cell_type": "markdown",
      "source": [
        "## Energy per Atom vs Nanosphere Size (BLD interaction distance of 13 Å)"
      ],
      "metadata": {
        "id": "TJmfQpJNW83S"
      }
    },
    {
      "cell_type": "code",
      "source": [
        "# Lennard-Jones Energy of lattices as a function of the radius of the sphere\n",
        "# with the BLD reaching out to 13 angstroms\n",
        "sizes = [10,20,30,40,50,60,70,80,90,100]\n",
        "atoms = [249,1985,6699,15711,30885,53117,84859,126341,180313,246861]\n",
        "energies = [-1.3637823440784378,-1.610121350907847,-1.6956711165798894,-1.7373922221764095,-1.7635292116815366,\n",
        "            -1.7832508724365899,-1.8109058637491857,-1.8105379755074056,-1.8196450789909768,\n",
        "            -1.8273659727222047]\n",
        "# Lennard-Jones Energy of lattices as a function of the radius of the sphere\n",
        "# with the BLD reaching out to 25 angstroms\n",
        "sizes25 = [100]\n",
        "atoms25 = [246861]\n",
        "energies25 = [-1.839502671288224]"
      ],
      "metadata": {
        "id": "057M7ptIbVVR"
      },
      "execution_count": null,
      "outputs": []
    },
    {
      "cell_type": "code",
      "source": [
        "fig, ax = plt.subplots(figsize=(9,6))\n",
        "ax.scatter(sizes,energies, color='black', label=r'$13\\AA$'+' Interaction Radius')\n",
        "ax.scatter(sizes25,energies25, color='red', label=r'$25\\AA$'+' Interaction Radius')\n",
        "ax.set_title(r'Energy Per Atom vs Particle Radius', fontsize=20, fontweight='bold')\n",
        "ax.set_xlabel(r'Particle Pre-Relaxation Radius [$\\AA$]', fontsize=20, fontweight='bold')\n",
        "ax.set_ylabel(r'Energy [eV/atom]', fontsize=20, fontweight='bold')\n",
        "ax.legend(fontsize=18)\n",
        "ax.grid()\n",
        "plt.tight_layout()\n",
        "plt.savefig('EnergyPerAtom.png')\n",
        "files.download('EnergyPerAtom.png')"
      ],
      "metadata": {
        "id": "rip4G7lJeRfa",
        "colab": {
          "base_uri": "https://localhost:8080/",
          "height": 441
        },
        "outputId": "488bbdba-cfc6-45e5-a584-6b950fae5f8e"
      },
      "execution_count": null,
      "outputs": [
        {
          "output_type": "display_data",
          "data": {
            "text/plain": [
              "<IPython.core.display.Javascript object>"
            ],
            "application/javascript": [
              "\n",
              "    async function download(id, filename, size) {\n",
              "      if (!google.colab.kernel.accessAllowed) {\n",
              "        return;\n",
              "      }\n",
              "      const div = document.createElement('div');\n",
              "      const label = document.createElement('label');\n",
              "      label.textContent = `Downloading \"${filename}\": `;\n",
              "      div.appendChild(label);\n",
              "      const progress = document.createElement('progress');\n",
              "      progress.max = size;\n",
              "      div.appendChild(progress);\n",
              "      document.body.appendChild(div);\n",
              "\n",
              "      const buffers = [];\n",
              "      let downloaded = 0;\n",
              "\n",
              "      const channel = await google.colab.kernel.comms.open(id);\n",
              "      // Send a message to notify the kernel that we're ready.\n",
              "      channel.send({})\n",
              "\n",
              "      for await (const message of channel.messages) {\n",
              "        // Send a message to notify the kernel that we're ready.\n",
              "        channel.send({})\n",
              "        if (message.buffers) {\n",
              "          for (const buffer of message.buffers) {\n",
              "            buffers.push(buffer);\n",
              "            downloaded += buffer.byteLength;\n",
              "            progress.value = downloaded;\n",
              "          }\n",
              "        }\n",
              "      }\n",
              "      const blob = new Blob(buffers, {type: 'application/binary'});\n",
              "      const a = document.createElement('a');\n",
              "      a.href = window.URL.createObjectURL(blob);\n",
              "      a.download = filename;\n",
              "      div.appendChild(a);\n",
              "      a.click();\n",
              "      div.remove();\n",
              "    }\n",
              "  "
            ]
          },
          "metadata": {}
        },
        {
          "output_type": "display_data",
          "data": {
            "text/plain": [
              "<IPython.core.display.Javascript object>"
            ],
            "application/javascript": [
              "download(\"download_58d6cc70-f00f-429e-9e95-4306314140c1\", \"EnergyPerAtom.png\", 29598)"
            ]
          },
          "metadata": {}
        },
        {
          "output_type": "display_data",
          "data": {
            "text/plain": [
              "<Figure size 648x432 with 1 Axes>"
            ],
            "image/png": "[encoded data removed]"
          },
          "metadata": {
            "needs_background": "light"
          }
        }
      ]
    },
    {
      "cell_type": "code",
      "source": [
        "atoms = [1/(x**(1/3)) for x in atoms]\n",
        "atoms25 = [1/(x**(1/3)) for x in atoms25]"
      ],
      "metadata": {
        "id": "3os_zbTZMnSQ"
      },
      "execution_count": null,
      "outputs": []
    },
    {
      "cell_type": "code",
      "source": [
        "fig, ax = plt.subplots(figsize=(9,6))\n",
        "ax.scatter(atoms,energies, color='black', label=r'$13\\AA$'+' Interaction Radius')\n",
        "ax.scatter(atoms25,energies25, color='red', label=r'$25\\AA$'+' Interaction Radius')\n",
        "ax.set_title(r'Energy Per Atom vs Particle Radius', fontsize=20, fontweight='bold')\n",
        "ax.set_xlabel(r'$1/atoms^{1/3}$', fontsize=20, fontweight='bold')\n",
        "ax.set_ylabel(r'Energy [eV/atom]', fontsize=20, fontweight='bold')\n",
        "ax.legend(fontsize=18)\n",
        "ax.grid()\n",
        "plt.tight_layout()\n",
        "plt.savefig('EnergyPerAtomv2.png')\n",
        "files.download('EnergyPerAtomv2.png')"
      ],
      "metadata": {
        "colab": {
          "base_uri": "https://localhost:8080/",
          "height": 441
        },
        "id": "7IJvJEeXMgi_",
        "outputId": "bb474886-0ff0-46c8-9e75-15226bad83bc"
      },
      "execution_count": null,
      "outputs": [
        {
          "output_type": "display_data",
          "data": {
            "text/plain": [
              "<IPython.core.display.Javascript object>"
            ],
            "application/javascript": [
              "\n",
              "    async function download(id, filename, size) {\n",
              "      if (!google.colab.kernel.accessAllowed) {\n",
              "        return;\n",
              "      }\n",
              "      const div = document.createElement('div');\n",
              "      const label = document.createElement('label');\n",
              "      label.textContent = `Downloading \"${filename}\": `;\n",
              "      div.appendChild(label);\n",
              "      const progress = document.createElement('progress');\n",
              "      progress.max = size;\n",
              "      div.appendChild(progress);\n",
              "      document.body.appendChild(div);\n",
              "\n",
              "      const buffers = [];\n",
              "      let downloaded = 0;\n",
              "\n",
              "      const channel = await google.colab.kernel.comms.open(id);\n",
              "      // Send a message to notify the kernel that we're ready.\n",
              "      channel.send({})\n",
              "\n",
              "      for await (const message of channel.messages) {\n",
              "        // Send a message to notify the kernel that we're ready.\n",
              "        channel.send({})\n",
              "        if (message.buffers) {\n",
              "          for (const buffer of message.buffers) {\n",
              "            buffers.push(buffer);\n",
              "            downloaded += buffer.byteLength;\n",
              "            progress.value = downloaded;\n",
              "          }\n",
              "        }\n",
              "      }\n",
              "      const blob = new Blob(buffers, {type: 'application/binary'});\n",
              "      const a = document.createElement('a');\n",
              "      a.href = window.URL.createObjectURL(blob);\n",
              "      a.download = filename;\n",
              "      div.appendChild(a);\n",
              "      a.click();\n",
              "      div.remove();\n",
              "    }\n",
              "  "
            ]
          },
          "metadata": {}
        },
        {
          "output_type": "display_data",
          "data": {
            "text/plain": [
              "<IPython.core.display.Javascript object>"
            ],
            "application/javascript": [
              "download(\"download_0dee9463-8c5f-4af7-a2b9-0494b6d19b5e\", \"EnergyPerAtomv2.png\", 28538)"
            ]
          },
          "metadata": {}
        },
        {
          "output_type": "display_data",
          "data": {
            "text/plain": [
              "<Figure size 648x432 with 1 Axes>"
            ],
            "image/png": "[encoded data removed]"
          },
          "metadata": {
            "needs_background": "light"
          }
        }
      ]
    },
    {
      "cell_type": "markdown",
      "source": [],
      "metadata": {
        "id": "XUxX6EBjXaCo"
      }
    },
    {
      "cell_type": "markdown",
      "source": [
        "## Energy per Atom vs BLD Interaction Distance for 40Å radius sphere"
      ],
      "metadata": {
        "id": "HY5W_a2YXbRk"
      }
    },
    {
      "cell_type": "code",
      "source": [
        "interaction_distance = [5,10,15,20,25]\n",
        "energiesr40 = [-1.4459350055851707, -1.7208837425672021, -1.7409963963173123, -1.7448910563251787, -1.7454857044705943]\n",
        "energiesr30 = [-1.4163016043906735, -1.6805702445350428, -1.698971110615917, -1.7021117499758796,-1.7027095039725435]"
      ],
      "metadata": {
        "id": "Ar3IswhfXlm0"
      },
      "execution_count": null,
      "outputs": []
    },
    {
      "cell_type": "code",
      "source": [
        "fig, ax = plt.subplots(figsize=(9,6))\n",
        "ax.scatter(interaction_distance,energiesr30, color='red', label=r'$r30\\AA$')\n",
        "ax.scatter(interaction_distance,energiesr40, color='black', label=r'$r40\\AA$')\n",
        "ax.set_title(r'Energy Per Atom vs BLD Interaction Radius (1000MC)', fontsize=20, fontweight='bold')\n",
        "ax.set_xlabel(\"BLD Interaction Radius\"+r'$[\\AA]$', fontsize=20, fontweight='bold')\n",
        "ax.set_ylabel(r'Energy [eV/atom]', fontsize=20, fontweight='bold')\n",
        "ax.legend(fontsize=18)\n",
        "ax.grid()\n",
        "plt.tight_layout()\n",
        "plt.savefig('EnergyPerAtomVBLD.png')\n",
        "files.download('EnergyPerAtomVBLD.png')"
      ],
      "metadata": {
        "colab": {
          "base_uri": "https://localhost:8080/",
          "height": 441
        },
        "id": "-Y-_2C5jc5WX",
        "outputId": "41eccb78-b605-4566-eda4-51bb92d8967f"
      },
      "execution_count": null,
      "outputs": [
        {
          "output_type": "display_data",
          "data": {
            "text/plain": [
              "<IPython.core.display.Javascript object>"
            ],
            "application/javascript": [
              "\n",
              "    async function download(id, filename, size) {\n",
              "      if (!google.colab.kernel.accessAllowed) {\n",
              "        return;\n",
              "      }\n",
              "      const div = document.createElement('div');\n",
              "      const label = document.createElement('label');\n",
              "      label.textContent = `Downloading \"${filename}\": `;\n",
              "      div.appendChild(label);\n",
              "      const progress = document.createElement('progress');\n",
              "      progress.max = size;\n",
              "      div.appendChild(progress);\n",
              "      document.body.appendChild(div);\n",
              "\n",
              "      const buffers = [];\n",
              "      let downloaded = 0;\n",
              "\n",
              "      const channel = await google.colab.kernel.comms.open(id);\n",
              "      // Send a message to notify the kernel that we're ready.\n",
              "      channel.send({})\n",
              "\n",
              "      for await (const message of channel.messages) {\n",
              "        // Send a message to notify the kernel that we're ready.\n",
              "        channel.send({})\n",
              "        if (message.buffers) {\n",
              "          for (const buffer of message.buffers) {\n",
              "            buffers.push(buffer);\n",
              "            downloaded += buffer.byteLength;\n",
              "            progress.value = downloaded;\n",
              "          }\n",
              "        }\n",
              "      }\n",
              "      const blob = new Blob(buffers, {type: 'application/binary'});\n",
              "      const a = document.createElement('a');\n",
              "      a.href = window.URL.createObjectURL(blob);\n",
              "      a.download = filename;\n",
              "      div.appendChild(a);\n",
              "      a.click();\n",
              "      div.remove();\n",
              "    }\n",
              "  "
            ]
          },
          "metadata": {}
        },
        {
          "output_type": "display_data",
          "data": {
            "text/plain": [
              "<IPython.core.display.Javascript object>"
            ],
            "application/javascript": [
              "download(\"download_806514eb-2ada-47c7-ad61-7579243c35c2\", \"EnergyPerAtomVBLD.png\", 29925)"
            ]
          },
          "metadata": {}
        },
        {
          "output_type": "display_data",
          "data": {
            "text/plain": [
              "<Figure size 648x432 with 1 Axes>"
            ],
            "image/png": "[encoded data removed]"
          },
          "metadata": {
            "needs_background": "light"
          }
        }
      ]
    },
    {
      "cell_type": "markdown",
      "source": [
        "## Energy per Atom vs MMC Cycles for 25Å Au Sphere"
      ],
      "metadata": {
        "id": "ZC9O_a_wgFlT"
      }
    },
    {
      "cell_type": "code",
      "source": [
        "cycle_number = [0,100,200,300,400,500,600,700,\n",
        "                800,900,1000,1100,1200,1300,1400,1500,\n",
        "                1600,1700,1800,1900,2000]\n",
        "energyperatom = [-1.7410806246238386,-1.670906815597094,-1.6657616190680984,-1.6666673722170697,-1.6649824207812463,-1.6661498479038384,-1.665365806782186,-1.6670481360856335,\n",
        "                 -1.6650299773396613,-1.6640434461208424,-1.6666625417036565,-1.6659057434924511,-1.663719748770761,-1.6662222143657845,-1.6664315919205304,-1.6664336542050349,\n",
        "                 -1.6654764785768412,-1.6663539755195573,-1.6646965922966304,-1.667008832001645,-1.6667010356202983]"
      ],
      "metadata": {
        "id": "OdCEGU0BgVMV"
      },
      "execution_count": null,
      "outputs": []
    },
    {
      "cell_type": "code",
      "source": [
        "# FROM 4NN LJ\n",
        "cycle_number1 = [0,100,200,300,400,500,\n",
        "                 600,700,800,900,1000,\n",
        "                 1100,1200,1300,1400,1500,\n",
        "                 1600,1700,1800,1900,2000]\n",
        "energyperatom1 = [-1.6266924290745626,-1.537382825716195,-1.53234982329232,-1.533337168301161,-1.5319578668743041,-1.5328020783709124,\n",
        "                  -1.5320215671589719,-1.5336138810221893,-1.5316975124086993,-1.5311292644411316,-1.5330594690586452,\n",
        "                  -1.532388537488914,-1.5306860733859573,-1.5328400263621893,-1.5331921030913265,-1.5333426285766287,\n",
        "                  -1.5322134963596428,-1.533007636282992,-1.5315552358397215,-1.5335808602993282,-1.5333199014023937]"
      ],
      "metadata": {
        "id": "MXgDL0AWt_Ix"
      },
      "execution_count": null,
      "outputs": []
    },
    {
      "cell_type": "code",
      "source": [
        "fig, ax = plt.subplots(figsize=(9,6))\n",
        "ax.scatter(cycle_number1,energyperatom, color='red', label=r'$BLD$')\n",
        "ax.scatter(cycle_number1,energyperatom1, color='black', label=r'$4thNN$')\n",
        "ax.set_title(r'BLD Interaction (R=15) vs 4th NN', fontsize=20, fontweight='bold')\n",
        "ax.set_xlabel(\"MMC Cycles\", fontsize=20, fontweight='bold')\n",
        "ax.set_ylabel(r'Energy [eV/atom]', fontsize=20, fontweight='bold')\n",
        "ax.legend(fontsize=18)\n",
        "ax.grid()\n",
        "plt.tight_layout()\n",
        "plt.savefig('EnergyPerAtomVBLD.png')\n",
        "files.download('EnergyPerAtomVBLD.png')\n",
        "\n"
      ],
      "metadata": {
        "id": "Ezz40e45gchc",
        "colab": {
          "base_uri": "https://localhost:8080/",
          "height": 441
        },
        "outputId": "8cfeceef-caae-4045-f131-2ee0f3838714"
      },
      "execution_count": null,
      "outputs": [
        {
          "output_type": "display_data",
          "data": {
            "text/plain": [
              "<IPython.core.display.Javascript object>"
            ],
            "application/javascript": [
              "\n",
              "    async function download(id, filename, size) {\n",
              "      if (!google.colab.kernel.accessAllowed) {\n",
              "        return;\n",
              "      }\n",
              "      const div = document.createElement('div');\n",
              "      const label = document.createElement('label');\n",
              "      label.textContent = `Downloading \"${filename}\": `;\n",
              "      div.appendChild(label);\n",
              "      const progress = document.createElement('progress');\n",
              "      progress.max = size;\n",
              "      div.appendChild(progress);\n",
              "      document.body.appendChild(div);\n",
              "\n",
              "      const buffers = [];\n",
              "      let downloaded = 0;\n",
              "\n",
              "      const channel = await google.colab.kernel.comms.open(id);\n",
              "      // Send a message to notify the kernel that we're ready.\n",
              "      channel.send({})\n",
              "\n",
              "      for await (const message of channel.messages) {\n",
              "        // Send a message to notify the kernel that we're ready.\n",
              "        channel.send({})\n",
              "        if (message.buffers) {\n",
              "          for (const buffer of message.buffers) {\n",
              "            buffers.push(buffer);\n",
              "            downloaded += buffer.byteLength;\n",
              "            progress.value = downloaded;\n",
              "          }\n",
              "        }\n",
              "      }\n",
              "      const blob = new Blob(buffers, {type: 'application/binary'});\n",
              "      const a = document.createElement('a');\n",
              "      a.href = window.URL.createObjectURL(blob);\n",
              "      a.download = filename;\n",
              "      div.appendChild(a);\n",
              "      a.click();\n",
              "      div.remove();\n",
              "    }\n",
              "  "
            ]
          },
          "metadata": {}
        },
        {
          "output_type": "display_data",
          "data": {
            "text/plain": [
              "<IPython.core.display.Javascript object>"
            ],
            "application/javascript": [
              "download(\"download_0ebe1757-5979-4771-9d31-0a6e9a13bd28\", \"EnergyPerAtomVBLD.png\", 24089)"
            ]
          },
          "metadata": {}
        },
        {
          "output_type": "display_data",
          "data": {
            "text/plain": [
              "<Figure size 648x432 with 1 Axes>"
            ],
            "image/png": "[encoded data removed]"
          },
          "metadata": {
            "needs_background": "light"
          }
        }
      ]
    },
    {
      "cell_type": "markdown",
      "source": [
        "## Lattice Paramter Evolution for FCC Au r=25Å sphere"
      ],
      "metadata": {
        "id": "N4h418pY1G_u"
      }
    },
    {
      "cell_type": "code",
      "source": [
        "# if read from the first peak of the XRD (i.e. the (111) peak)\n",
        "# a = \\lambda / [2*sin(\\theta)] * root(3)\n",
        "# \\lambda is copper k alpha so \\lambda = 1.5406 \\AA\n",
        "lam = 1.5406\n",
        "cycle_number2 = [0,100,200,300,400,500,\n",
        "                 600,700,800,900,1000,\n",
        "                 1100,1200,1300,1400,1500,\n",
        "                 1600,1700,1800,1900,2000]\n",
        "thetas = [38.2194,37.5393, 37.5025, 37.5075, 37.4916, 37.5019,\n",
        "          37.4978, 37.5100, 37.4858, 37.4923, 37.4969,\n",
        "          37.5015, 37.4969, 37.5016, 37.5005, 37.4964,\n",
        "          37.4856, 37.5122, 37.4999, 37.5032, 37.5095]\n",
        "\n",
        "a = [ np.sqrt(3)*lam / (2*np.sin( x/2 * np.pi/180)) for x in thetas]\n",
        "\n",
        "\n",
        "\n",
        "fig, ax = plt.subplots(figsize=(9,6))\n",
        "ax.scatter(cycle_number2,a, color='red')\n",
        "ax.set_title(r'Average Lattice Parameter vs MMC Cycles', fontsize=20, fontweight='bold')\n",
        "ax.set_xlabel(\"MMC Cycles\", fontsize=20, fontweight='bold')\n",
        "ax.set_ylabel(r'$a [\\AA]$', fontsize=20, fontweight='bold')\n",
        "ax.legend(fontsize=18)\n",
        "ax.grid()\n",
        "plt.tight_layout()\n",
        "plt.savefig('LatticeParameterEvolution.png')\n",
        "files.download('LatticeParameterEvolution.png')"
      ],
      "metadata": {
        "id": "RLwCh2oi1ZvU",
        "outputId": "0031d78e-b03b-4127-896d-127aed3d4438",
        "colab": {
          "base_uri": "https://localhost:8080/",
          "height": 496
        }
      },
      "execution_count": null,
      "outputs": [
        {
          "output_type": "stream",
          "name": "stderr",
          "text": [
            "WARNING:matplotlib.legend:No handles with labels found to put in legend.\n"
          ]
        },
        {
          "output_type": "stream",
          "name": "stdout",
          "text": [
            "[4.075409043355918, 4.14651078354324, 4.150433093578058, 4.149899710329872, 4.151596371848504, 4.150497109312856, 4.1509346060705905, 4.14963307307472, 4.15221564511864, 4.151521645182296, 4.1510306550009215, 4.150539787629695, 4.1510306550009215, 4.150529117963461, 4.150646487483082, 4.151084017549109, 4.1522370028542355, 4.149398462265101, 4.150710510180147, 4.150358411193703, 4.149686397626614]\n"
          ]
        },
        {
          "output_type": "display_data",
          "data": {
            "text/plain": [
              "<IPython.core.display.Javascript object>"
            ],
            "application/javascript": [
              "\n",
              "    async function download(id, filename, size) {\n",
              "      if (!google.colab.kernel.accessAllowed) {\n",
              "        return;\n",
              "      }\n",
              "      const div = document.createElement('div');\n",
              "      const label = document.createElement('label');\n",
              "      label.textContent = `Downloading \"${filename}\": `;\n",
              "      div.appendChild(label);\n",
              "      const progress = document.createElement('progress');\n",
              "      progress.max = size;\n",
              "      div.appendChild(progress);\n",
              "      document.body.appendChild(div);\n",
              "\n",
              "      const buffers = [];\n",
              "      let downloaded = 0;\n",
              "\n",
              "      const channel = await google.colab.kernel.comms.open(id);\n",
              "      // Send a message to notify the kernel that we're ready.\n",
              "      channel.send({})\n",
              "\n",
              "      for await (const message of channel.messages) {\n",
              "        // Send a message to notify the kernel that we're ready.\n",
              "        channel.send({})\n",
              "        if (message.buffers) {\n",
              "          for (const buffer of message.buffers) {\n",
              "            buffers.push(buffer);\n",
              "            downloaded += buffer.byteLength;\n",
              "            progress.value = downloaded;\n",
              "          }\n",
              "        }\n",
              "      }\n",
              "      const blob = new Blob(buffers, {type: 'application/binary'});\n",
              "      const a = document.createElement('a');\n",
              "      a.href = window.URL.createObjectURL(blob);\n",
              "      a.download = filename;\n",
              "      div.appendChild(a);\n",
              "      a.click();\n",
              "      div.remove();\n",
              "    }\n",
              "  "
            ]
          },
          "metadata": {}
        },
        {
          "output_type": "display_data",
          "data": {
            "text/plain": [
              "<IPython.core.display.Javascript object>"
            ],
            "application/javascript": [
              "download(\"download_4de1d982-e32f-4d30-a4d1-8bc55a5a78f8\", \"LatticeParameterEvolution.png\", 20554)"
            ]
          },
          "metadata": {}
        },
        {
          "output_type": "display_data",
          "data": {
            "text/plain": [
              "<Figure size 648x432 with 1 Axes>"
            ],
            "image/png": "[encoded data removed]"
          },
          "metadata": {
            "needs_background": "light"
          }
        }
      ]
    }
  ]
}